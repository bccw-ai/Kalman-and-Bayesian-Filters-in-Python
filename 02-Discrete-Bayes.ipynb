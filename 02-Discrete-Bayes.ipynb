{
 "cells": [
  {
   "cell_type": "markdown",
   "metadata": {},
   "source": [
    "[Table of Contents](./table_of_contents.ipynb)"
   ]
  },
  {
   "cell_type": "markdown",
   "metadata": {},
   "source": [
    "# Discrete Bayes Filter"
   ]
  },
  {
   "cell_type": "code",
   "execution_count": 1,
   "metadata": {},
   "outputs": [],
   "source": [
    "%matplotlib inline"
   ]
  },
  {
   "cell_type": "code",
   "execution_count": 2,
   "metadata": {},
   "outputs": [],
   "source": [
    "import filterpy"
   ]
  },
  {
   "cell_type": "code",
   "execution_count": 3,
   "metadata": {},
   "outputs": [
    {
     "name": "stdout",
     "output_type": "stream",
     "text": [
      "Please install SymPy before continuing. See chapter 0 for instructions.\n",
      "Minimum Matplotlib version supported is 3.0. Please install a more recent version.\n"
     ]
    },
    {
     "ename": "AttributeError",
     "evalue": "module 'matplotlib' has no attribute 'MatplotlibDeprecationWarning'",
     "output_type": "error",
     "traceback": [
      "\u001b[0;31m---------------------------------------------------------------------------\u001b[0m",
      "\u001b[0;31mAttributeError\u001b[0m                            Traceback (most recent call last)",
      "\u001b[0;32m<ipython-input-3-44ce08f6fafe>\u001b[0m in \u001b[0;36m<module>\u001b[0;34m\u001b[0m\n\u001b[1;32m      1\u001b[0m \u001b[0;31m#format the book\u001b[0m\u001b[0;34m\u001b[0m\u001b[0;34m\u001b[0m\u001b[0;34m\u001b[0m\u001b[0m\n\u001b[0;32m----> 2\u001b[0;31m \u001b[0;32mimport\u001b[0m \u001b[0mbook_format\u001b[0m\u001b[0;34m\u001b[0m\u001b[0;34m\u001b[0m\u001b[0m\n\u001b[0m\u001b[1;32m      3\u001b[0m \u001b[0mbook_format\u001b[0m\u001b[0;34m.\u001b[0m\u001b[0mset_style\u001b[0m\u001b[0;34m(\u001b[0m\u001b[0;34m)\u001b[0m\u001b[0;34m\u001b[0m\u001b[0;34m\u001b[0m\u001b[0m\n",
      "\u001b[0;32m~/bccw-ai/Kalman-and-Bayesian-Filters-in-Python/book_format.py\u001b[0m in \u001b[0;36m<module>\u001b[0;34m\u001b[0m\n\u001b[1;32m     96\u001b[0m \u001b[0;34m\u001b[0m\u001b[0m\n\u001b[1;32m     97\u001b[0m \u001b[0;32mwith\u001b[0m \u001b[0mwarnings\u001b[0m\u001b[0;34m.\u001b[0m\u001b[0mcatch_warnings\u001b[0m\u001b[0;34m(\u001b[0m\u001b[0;34m)\u001b[0m\u001b[0;34m:\u001b[0m\u001b[0;34m\u001b[0m\u001b[0;34m\u001b[0m\u001b[0m\n\u001b[0;32m---> 98\u001b[0;31m     \u001b[0mwarnings\u001b[0m\u001b[0;34m.\u001b[0m\u001b[0msimplefilter\u001b[0m\u001b[0;34m(\u001b[0m\u001b[0;34m\"ignore\"\u001b[0m\u001b[0;34m,\u001b[0m \u001b[0mmatplotlib\u001b[0m\u001b[0;34m.\u001b[0m\u001b[0mMatplotlibDeprecationWarning\u001b[0m\u001b[0;34m)\u001b[0m\u001b[0;34m\u001b[0m\u001b[0;34m\u001b[0m\u001b[0m\n\u001b[0m\u001b[1;32m     99\u001b[0m     \u001b[0mpylab\u001b[0m\u001b[0;34m.\u001b[0m\u001b[0mrcParams\u001b[0m\u001b[0;34m[\u001b[0m\u001b[0;34m'figure.max_open_warning'\u001b[0m\u001b[0;34m]\u001b[0m \u001b[0;34m=\u001b[0m \u001b[0;36m50\u001b[0m\u001b[0;34m\u001b[0m\u001b[0;34m\u001b[0m\u001b[0m\n\u001b[1;32m    100\u001b[0m \u001b[0;34m\u001b[0m\u001b[0m\n",
      "\u001b[0;31mAttributeError\u001b[0m: module 'matplotlib' has no attribute 'MatplotlibDeprecationWarning'"
     ]
    }
   ],
   "source": [
    "#format the book\n",
    "import book_format\n",
    "book_format.set_style()"
   ]
  },
  {
   "cell_type": "markdown",
   "metadata": {},
   "source": [
    "The Kalman filter belongs to a family of filters called *Bayesian filters*. Most textbook treatments of the Kalman filter present the Bayesian formula, perhaps shows how it factors into the Kalman filter equations, but mostly keeps the discussion at a very abstract level.   \n",
    "卡尔曼滤波器属于一个称为“贝叶斯滤波器”的滤波器。大多数有关卡尔曼滤波器的教科书都提出了贝叶斯公式，也许表明了贝叶斯公式是如何影响卡尔曼滤波器方程式的，但大多数情况下使讨论保持在非常抽象的水平。\n",
    "\n",
    "That approach requires a fairly sophisticated understanding of several fields of mathematics, and it still leaves much of the work of understanding and forming an intuitive grasp of the situation in the hands of the reader.  \n",
    "这种方法需要对数学的几个领域有相当复杂的理解，并且仍然需要大量的理解工作并在读者手中形成对情况的直观了解。\n",
    "\n",
    "I will use a different way to develop the topic, to which I owe the work of Dieter Fox and Sebastian Thrun a great debt. It depends on building an intuition on how Bayesian statistics work by tracking an object through a hallway - they use a robot, I use a dog. I like dogs, and they are less predictable than robots which imposes interesting difficulties for filtering. The first published example of this that I can find seems to be Fox 1999 [1], with a fuller example in Fox 2003 [2]. Sebastian Thrun also uses this formulation in his excellent Udacity course Artificial Intelligence for Robotics [3]. In fact, if you like watching videos, I highly recommend pausing reading this book in favor of first few lessons of that course, and then come back to this book for a deeper dive into the topic.  \n",
    "我将使用一种不同的方式来发展该主题，这归功于Dieter Fox和Sebastian Thrun的工作。这取决于通过在走廊上跟踪物体来建立贝叶斯统计工作原理的直觉-他们使用机器人，我使用狗。我喜欢狗，它们比机器人更难预测，这给过滤带来了有趣的困难。我可以找到的第一个已发布的示例似乎是Fox 1999 [1]，而在Fox 2003 [2]中有更完整的示例。塞巴斯蒂安·特伦（Sebastian Thrun）在其出色的Udacity课程《机器人人工智能》中也使用了这种表述[3]。实际上，如果您喜欢看视频，我强烈建议您暂停阅读本书，以免该课程的前几课，然后再回到本书中，以更深入地探讨该主题。\n",
    "\n",
    "Let's now use a simple thought experiment, much like we did with the g-h filter, to see how we might reason about the use of probabilities for filtering and tracking.  \n",
    "现在，让我们使用一个简单的思想实验，就像我们使用g-h过滤器所做的那样，来看看我们如何推理使用概率进行过滤和跟踪。"
   ]
  },
  {
   "cell_type": "markdown",
   "metadata": {},
   "source": [
    "## Tracking a Dog  追踪狗\n",
    "\n",
    "Let's begin with a simple problem. We have a dog friendly workspace, and so people bring their dogs to work. Occasionally the dogs wander out of offices and down the halls. We want to be able to track them. So during a hackathon somebody invented a sonar sensor to attach to the dog's collar. It emits a signal, listens for the echo, and based on how quickly an echo comes back we can tell whether the dog is in front of an open doorway or not. It also senses when the dog walks, and reports in which direction the dog has moved. It connects to the network via wifi and sends an update once a second.  \n",
    "让我们从一个简单的问题开始。我们有一个爱狗的工作区，所以人们可以带狗去上班。有时候，狗从办公室里溜出，走下走廊。我们希望能够跟踪它们。因此，在黑客马拉松期间，有人发明了一种声纳传感器，可以固定在狗的项圈上。它发出信号，监听回声，根据回声返回的速度，我们可以判断狗是否在敞开的门前。它还会感应狗何时走路，并报告狗向哪个方向移动。它通过wifi连接到网络，并每秒发送一次更新。\n",
    "\n",
    "I want to track my dog Simon, so I attach the device to his collar and then fire up Python, ready to write code to track him through the building. At first blush this may appear impossible. If I start listening to the sensor of Simon's collar I might read **door**, **hall**, **hall**, and so on. How can I use that information to determine where Simon is?  \n",
    "我想跟踪我的狗Simon，因此我将设备连接到他的项圈，然后启动Python，准备编写代码来跟踪他的建筑物。乍一看这似乎是不可能的。如果我开始听西蒙衣领的感应器，我可能会读到“门”，“大厅”，“大厅”等等。我如何使用这些信息来确定Simon在哪里？\n",
    "\n",
    "To keep the problem small enough to plot easily we will assume that there are only 10 positions in the hallway, which we will number 0 to 9, where 1 is to the right of 0. For reasons that will be clear later, we will also assume that the hallway is circular or rectangular. If you move right from position 9, you will be at position 0.   \n",
    "为了使问题小到可以轻松绘制，我们将假定走廊中只有10个位置，我们将这些位置从0编号为9，其中1位于0的右侧。由于稍后将要阐明的原因，我们还将假设走廊是圆形或矩形。如果从位置9向右移动，则将位于位置0。\n",
    "\n",
    "When I begin listening to the sensor I have no reason to believe that Simon is at any particular position in the hallway. From my perspective he is equally likely to be in any position. There are 10 positions, so the probability that he is in any given position is 1/10.   \n",
    "当我开始听传感器时，我没有理由相信西蒙在走廊上的任何特定位置。在我看来，他同样有可能处于任何位置。有10个职位，因此他处于任何给定职位的概率为1/10。\n",
    "\n",
    "\n",
    "Let's represent our belief of his position in a NumPy array. I could use a Python list, but NumPy arrays offer functionality that we will be using soon.  \n",
    "让我们表达我们对他在NumPy数组中的位置的信念。我可以使用Python列表，但是NumPy数组提供了我们即将使用的功能。\n"
   ]
  },
  {
   "cell_type": "code",
   "execution_count": 4,
   "metadata": {},
   "outputs": [
    {
     "name": "stdout",
     "output_type": "stream",
     "text": [
      "[0.1 0.1 0.1 0.1 0.1 0.1 0.1 0.1 0.1 0.1]\n"
     ]
    }
   ],
   "source": [
    "import numpy as np\n",
    "belief = np.array([1/10]*10)  # 先验分布且均匀分布（uniform distribution）\n",
    "print(belief)"
   ]
  },
  {
   "cell_type": "markdown",
   "metadata": {},
   "source": [
    "In [Bayesian statistics](https://en.wikipedia.org/wiki/Bayesian_probability) this is called a [*prior*](https://en.wikipedia.org/wiki/Prior_probability). It is the probability prior to incorporating measurements or other information. More completely, this is called the *prior probability distribution*. A [*probability distribution*](https://en.wikipedia.org/wiki/Probability_distribution) is a collection of all possible probabilities for an event. Probability distributions always sum to 1 because something had to happen; the distribution lists all possible events and the probability of each.  \n",
    "在[贝叶斯统计]（https://en.wikipedia.org/wiki/Bayesian_probability）中，  \n",
    "这被称为[*prior*]（https://en.wikipedia.org/wiki/Prior_probability）。这是合并测量值或其他信息之前的概率。更完整地说，这称为“先验概率分布”。   \n",
    "[*概率分布*]（https://en.wikipedia.org/wiki/Probability_distribution）是事件所有可能概率的集合。概率分布总和为1，因为必须发生某些事情。该分布列出了所有可能的事件以及每个事件的概率。\n",
    "\n",
    "I'm sure you've used probabilities before - as in \"the probability of rain today is 30%\". The last paragraph sounds like more of that. But Bayesian statistics was a revolution in probability because it treats probability as a belief about a single event. Let's take an example. I know that if I flip a fair coin infinitely many times I will get 50% heads and 50% tails. This is called [*frequentist statistics*](https://en.wikipedia.org/wiki/Frequentist_inference) to distinguish it from Bayesian statistics. Computations are based on the frequency in which events occur.  \n",
    "我确定您之前使用过概率-例如“今天下雨的概率是30％”。最后一段听起来更多。但是贝叶斯统计是概率革命，因为它把概率视为对单个事件的信念。让我们举个例子。我知道，如果我无限次掷出公平的硬币，我将获得50％的正面和50％的反面。这被称为[*frequentist statistics*]（https://en.wikipedia.org/wiki/Frequentist_inference），以区别于贝叶斯统计。计算基于事件发生的频率。\n",
    "\n",
    "I flip the coin one more time and let it land. Which way do I believe it landed? Frequentist probability has nothing to say about that; it will merely state that 50% of coin flips land as heads. In some ways it is meaningless to assign a probability to the current state of the coin. It is either heads or tails, we just don't know which. Bayes treats this as a belief about a single event - the strength of my belief or knowledge that this specific coin flip is heads is 50%. Some object to the term \"belief\"; belief can imply holding something to be true without evidence. In this book it always is a measure of the strength of our knowledge. We'll learn more about this as we go.  \n",
    "我再抛硬币一次，让它降落。我相信它会以哪种方式降落？频率论者对此无话可说。它只会声明50％的硬币翻转为正面。在某些方面，将概率分配给硬币的当前状态是没有意义的。它是正面还是反面，我们只是不知道哪个。贝叶斯将其视为对单个事件的信念-我对这种特定硬币翻转为正面的信念或知识的强度为50％。有人反对“信仰”一词；信念可能意味着在没有证据的情况下持有真实的事物。在本书中，它始终是衡量我们知识实力的标准。我们将继续学习有关此内容的更多信息。\n",
    "\n",
    "Bayesian statistics takes past information (the prior) into account. We observe that it rains 4 times every 100 days. From this I could state that the chance of rain tomorrow is 1/25. This is not how weather prediction is done. If I know it is raining today and the storm front is stalled, it is likely to rain tomorrow. Weather prediction is Bayesian.  \n",
    "贝叶斯统计将过去的信息（先前的信息）考虑在内。我们观察到每100天下雨4次。据此我可以说明天下雨的机会是1/25。这不是天气预报的完成方式。如果我知道今天正在下雨，而风暴前线已经停滞，那么明天可能会下雨。天气预报是贝叶斯。\n",
    "\n",
    "In practice statisticians use a mix of frequentist and Bayesian techniques. Sometimes finding the prior is difficult or impossible, and frequentist techniques rule. In this book we can find the prior. When I talk about the probability of something I am referring to the probability that some specific thing is true given past events. When I do that I'm taking the Bayesian approach.  \n",
    "在实践中，统计学家将常识和贝叶斯技术混合使用。有时，找到先验是困难的或不可能的，而常识性技术则是规则。在这本书中，我们可以找到先验。当我谈论某件事的可能性时，我指的是在过去发生的事件中某些特定事物为真的可能性。当我这样做时，我正在采取贝叶斯方法。\n",
    "\n",
    "Now let's create a map of the hallway. We'll place the first two doors close together, and then another door further away. We will use 1 for doors, and 0 for walls:  \n",
    "现在，让我们创建走廊地图。我们将前两扇门放在一起，然后再将另一扇门放远。我们将1用于门，将0用于墙："
   ]
  },
  {
   "cell_type": "code",
   "execution_count": 5,
   "metadata": {},
   "outputs": [],
   "source": [
    "hallway = np.array([1, 1, 0, 0, 0, 0, 0, 0, 1, 0])"
   ]
  },
  {
   "cell_type": "markdown",
   "metadata": {},
   "source": [
    "I start listening to Simon's transmissions on the network, and the first data I get from the sensor is **door**. For the moment assume the sensor always returns the correct answer. From this I conclude that he is in front of a door, but which one? I have no reason to believe he is in front of the first, second, or third door. What I can do is assign a probability to each door. All doors are equally likely, and there are three of them, so I assign a probability of 1/3 to each door.   \n",
    "我开始收听Simon在网络上的传输，并且我从传感器获得的第一个数据是“门”。目前假设传感器始终返回正确的答案。由此得出的结论是他在门的前面，但是哪一个呢？我没有理由相信他在第一，第二或第三扇门的前面。我能做的就是为每扇门分配一个概率。所有门的可能性均等，并且其中有三个，所以我给每个门分配1/3的概率。"
   ]
  },
  {
   "cell_type": "code",
   "execution_count": 6,
   "metadata": {},
   "outputs": [
    {
     "data": {
      "image/png": "[encoded data removed]",
      "text/plain": [
       "<Figure size 640x480 with 1 Axes>"
      ]
     },
     "metadata": {},
     "output_type": "display_data"
    }
   ],
   "source": [
    "import kf_book.book_plots as book_plots\n",
    "from kf_book.book_plots import figsize, set_figsize\n",
    "import matplotlib.pyplot as plt\n",
    "\n",
    "belief = np.array([1/3, 1/3, 0, 0, 0, 0, 0, 0, 1/3, 0])\n",
    "book_plots.bar_plot(belief)"
   ]
  },
  {
   "cell_type": "markdown",
   "metadata": {},
   "source": [
    "This distribution is called a [*categorical distribution*](https://en.wikipedia.org/wiki/Categorical_distribution), which is a discrete distribution describing the probability of observing $n$ outcomes. It is a [*multimodal distribution*](https://en.wikipedia.org/wiki/Multimodal_distribution) because we have multiple beliefs about the position of our dog. Of course we are not saying that we think he is simultaneously in three different locations, merely that we have narrowed down our knowledge to one of these three locations. My (Bayesian) belief is that there is a 33.3% chance of being at door 0, 33.3% at door 1, and a 33.3% chance of being at door 8.  \n",
    "这种分布称为[*类别分布*]（https://en.wikipedia.org/wiki/Categorical_distribution），它是描述观察$n$结果概率的离散分布。  \n",
    "这是[*多峰分布*]（https://en.wikipedia.org/wiki/Multimodal_distribution）， \n",
    "因为我们对狗的位置有多种看法。当然，我们并不是说我们认为他同时在三个不同的位置，只是说我们已经将知识范围缩小到这三个位置之一。我的（贝叶斯）信念是，有33.3％的机会进入0号门，有33.3％的机会进入1号门，有33.3％的机会进入8号门。\n",
    "\n",
    "This is an improvement in two ways. I've rejected a number of hallway positions as impossible, and the strength of my belief in the remaining positions has increased from 10% to 33%. This will always happen. As our knowledge improves the probabilities will get closer to 100%.  \n",
    "这是两个方面的改进。我拒绝了许多走廊职位，因为我对其余职位的信心从10％增加到33％。这将永远发生。随着我们知识的提高，概率将接近100％。\n",
    "\n",
    "A few words about the [*mode*](https://en.wikipedia.org/wiki/Mode_%28statistics%29)\n",
    "of a distribution. Given a list of numbers, such as {1, 2, 2, 2, 3, 3, 4}, the *mode* is the number that occurs most often. For this set the mode is 2. A distribution can contain more than one mode. The list {1, 2, 2, 2, 3, 3, 4, 4, 4} contains the modes 2 and 4, because both occur three times. We say the former list is [*unimodal*](https://en.wikipedia.org/wiki/Unimodality), and the latter is *multimodal*.  \n",
    "关于[*mode*]的几句话（https://en.wikipedia.org/wiki/Mode_%28statistics%29） 的分布。给定一个数字列表，例如{1,2,2,2,3,3,4}，* mode *是最常出现的数字。对于此设置，模式为2。一个分发可以包含多个模式。列表{1、2、2、2、3、3、4、4、4}包含模式2和4，因为两者都出现三次。我们说前者是[*unimodal*]（https://en.wikipedia.org/wiki/Unimodality），而后者是*multimodal*。\n",
    "\n",
    "Another term used for this distribution is a [*histogram*](https://en.wikipedia.org/wiki/Histogram). Histograms graphically depict the distribution of a set of numbers. The bar chart above is a histogram. 用于此分布的另一个术语是[* histogram *]（https://en.wikipedia.org/wiki/Histogram）。直方图以图形方式描绘了一组数字的分布。上面的条形图是直方图。  \n",
    "\n",
    "I hand coded the `belief` array in the code above. How would we implement this in code? We represent doors with 1, and walls as 0, so we will multiply the hallway variable by the percentage, like so;  \n",
    "我在上面的代码中手工编码了“ belief”数组。我们如何在代码中实现呢？我们用1表示门，墙用0表示，因此我们将走廊变量乘以百分比，如下所示："
   ]
  },
  {
   "cell_type": "code",
   "execution_count": 7,
   "metadata": {},
   "outputs": [
    {
     "name": "stdout",
     "output_type": "stream",
     "text": [
      "[0.33333333 0.33333333 0.         0.         0.         0.\n",
      " 0.         0.         0.33333333 0.        ]\n"
     ]
    }
   ],
   "source": [
    "# hallway = np.array([1, 1, 0, 0, 0, 0, 0, 0, 1, 0])\n",
    "belief = hallway * (1/3)\n",
    "print(belief)"
   ]
  },
  {
   "cell_type": "markdown",
   "metadata": {},
   "source": [
    "## Extracting Information from Sensor Readings  从传感器读数中提取信息\n",
    "\n",
    "Let's put Python aside and think about the problem a bit. Suppose we were to read the following from Simon's sensor:  \n",
    "让我们将Python放在一边，再思考一下问题。假设我们将从西蒙的传感器中读取以下内容：\n",
    "\n",
    "  * door\n",
    "  * move right\n",
    "  * door\n",
    "  \n",
    "\n",
    "Can we deduce Simon's location? Of course! Given the hallway's layout there is only one place from which you can get this sequence, and that is at the left end. Therefore we can confidently state that Simon is in front of the second doorway. If this is not clear, suppose Simon had started at the second or third door. After moving to the right, his sensor would have returned 'wall'. That doesn't match the sensor readings, so we know he didn't start there. We can continue with that logic for all the remaining starting positions. The only possibility is that he is now in front of the second door. Our belief is:  \n",
    "我们可以推断出西蒙的位置吗？当然！给定走廊的布局，只有一个位置可以从中获得此顺序，该位置位于左端。因此，我们可以放心地说西蒙在第二个门口的前面。如果不清楚，假设西蒙从第二或第三扇门开始。向右移动后，他的传感器将返回“墙”。那与传感器的读数不匹配，所以我们知道他没有从那里开始。对于所有其余的起始位置，我们可以继续执行该逻辑。唯一的可能性是他现在在第二扇门的前面。我们的信念是："
   ]
  },
  {
   "cell_type": "code",
   "execution_count": 8,
   "metadata": {},
   "outputs": [],
   "source": [
    "belief = np.array([0., 1., 0., 0., 0., 0., 0., 0., 0., 0.])"
   ]
  },
  {
   "cell_type": "markdown",
   "metadata": {},
   "source": [
    "I designed the hallway layout and sensor readings to give us an exact answer quickly. Real problems are not so clear cut. But this should trigger your intuition - the first sensor reading only gave us low probabilities (0.333) for Simon's location, but after a position update and another sensor reading we know more about where he is. You might suspect, correctly, that if you had a very long hallway with a large number of doors that after several sensor readings and positions updates we would either be able to know where Simon was, or have the possibilities narrowed down to a small number of possibilities. This is possible when a set of sensor readings only matches one to a few starting locations.  \n",
    "我设计了走廊布局和传感器读数，以便迅速为我们提供准确的答案。真正的问题不是那么明确。但是，这应该会触发您的直觉-第一个传感器读数只给我们提供了Simon位置的低概率（0.333），但是在更新位置和另一个传感器读数后，我们更加了解他的位置。您可能会正确地怀疑，如果走廊过长且带有大量的门，那么在经过几次传感器读数和位置更新后，我们将能够知道Simon在哪里，或者将可能性缩小到一小部分。可能性。当一组传感器读数仅匹配一个到几个起始位置时，这是可能的。\n",
    "\n",
    "We could implement this solution now, but instead let's consider a real world complication to the problem.  \n",
    "我们现在可以实施此解决方案，但让我们考虑一下该问题的现实情况。"
   ]
  },
  {
   "cell_type": "markdown",
   "metadata": {},
   "source": [
    "## Noisy Sensors\n",
    "\n",
    "Perfect sensors are rare. Perhaps the sensor would not detect a door if Simon sat in front of it while scratching himself, or misread if he is not facing down the hallway. Thus when I get **door** I cannot use 1/3 as the probability. I have to assign less than 1/3 to each door, and assign a small probability to each blank wall position. Something like  \n",
    "完美的传感器很少见。如果Simon抓挠自己坐在门前，传感器将无法检测到门，或者如果他不面向走廊，则会误读。因此，当我得到“门”时，我不能使用1/3作为概率。我必须为每个门分配少于1/3的空间，并为每个空白墙位置分配较小的概率。就像是\n",
    "\n",
    "```Python\n",
    "[.31, .31, .01, .01, .01, .01, .01, .01, .31, .01]\n",
    "```\n",
    "\n",
    "At first this may seem insurmountable. If the sensor is noisy it casts doubt on every piece of data. How can we conclude anything if we are always unsure?  \n",
    "起初，这似乎是无法克服的。如果传感器有噪声，则会对每个数据产生怀疑。如果我们始终不确定，该如何得出结论呢？\n",
    "\n",
    "The answer, as for the problem above, is with probabilities. We are already comfortable assigning a probabilistic belief to the location of the dog; now we have to incorporate the additional uncertainty caused by the sensor noise.   \n",
    "对于上述问题，答案在于概率。我们已经很乐意将概率概率分配给狗的位置。现在，我们必须考虑由传感器噪声引起的其他不确定性。\n",
    "\n",
    "Say we get a reading of **door**, and suppose that testing shows that the sensor is 3 times more likely to be right than wrong. We should scale the probability distribution by 3 where there is a door. If we do that the result will no longer be a probability distribution, but we will learn how to fix that in a moment.  \n",
    "假设我们获得了“门”的读数，并假设测试表明该传感器对错的可能性是对错的3倍。我们应该在有门的地方按3缩放概率分布。如果这样做，结果将不再是概率分布，而是我们将很快学习如何解决。\n",
    "\n",
    "Let's look at that in Python code. Here I use the variable `z` to denote the measurement. `z` or `y` are customary choices in the literature for the measurement. As a programmer I prefer meaningful variable names, but I want you to be able to read the literature and/or other filtering code, so I will start introducing these abbreviated names now.  \n",
    "让我们用Python代码来看一下。在这里，我使用变量“ z”来表示度量。 “ z”或“ y”是文献中用于测量的惯用选择。作为程序员，我更喜欢有意义的变量名，但是我希望您能够阅读文献和/或其他过滤代码，因此，我现在将开始介绍这些缩写名。"
   ]
  },
  {
   "cell_type": "code",
   "execution_count": 9,
   "metadata": {},
   "outputs": [
    {
     "name": "stdout",
     "output_type": "stream",
     "text": [
      "belief: [0.3 0.3 0.1 0.1 0.1 0.1 0.1 0.1 0.3 0.1]\n",
      "sum = 1.6000000000000003\n"
     ]
    },
    {
     "data": {
      "image/png": "[encoded data removed]",
      "text/plain": [
       "<Figure size 640x480 with 1 Axes>"
      ]
     },
     "metadata": {},
     "output_type": "display_data"
    }
   ],
   "source": [
    "def update_belief(hall, belief, z, correct_scale):\n",
    "    for i, val in enumerate(hall):\n",
    "        if val == z:\n",
    "            belief[i] *= correct_scale\n",
    "        \n",
    "belief = np.array([0.1] * 10)\n",
    "reading = 1 # 1 is 'door'\n",
    "update_belief(hallway, belief, z=reading, correct_scale=3.)\n",
    "print('belief:', belief)\n",
    "print('sum =', sum(belief))\n",
    "plt.figure()\n",
    "book_plots.bar_plot(belief)"
   ]
  },
  {
   "cell_type": "code",
   "execution_count": 10,
   "metadata": {},
   "outputs": [
    {
     "name": "stdout",
     "output_type": "stream",
     "text": [
      "sum = 1.0\n",
      "probability of door = 0.1875\n",
      "probability of wall = 0.06249999999999999\n"
     ]
    },
    {
     "data": {
      "image/png": "[encoded data removed]",
      "text/plain": [
       "<Figure size 640x480 with 1 Axes>"
      ]
     },
     "metadata": {},
     "output_type": "display_data"
    }
   ],
   "source": [
    "from filterpy.discrete_bayes import normalize\n",
    "\n",
    "def update_belief(hall, belief, z, z_prob):\n",
    "    scale = z_prob / (1. - z_prob)\n",
    "    belief[hall==1] *= scale\n",
    "    normalize(belief)\n",
    "\n",
    "belief = np.array([0.1] * 10)\n",
    "update_belief(hallway, belief, z=1, z_prob=.75)\n",
    "\n",
    "print('sum =', sum(belief))\n",
    "print('probability of door =', belief[0])\n",
    "print('probability of wall =', belief[2])\n",
    "book_plots.bar_plot(belief, ylim=(0, .3))"
   ]
  },
  {
   "cell_type": "markdown",
   "metadata": {},
   "source": [
    "This is not a probability distribution because it does not sum to 1.0. But the code is doing mostly the right thing - the doors are assigned a number (0.3) that is 3 times higher than the walls (0.1). All we need to do is normalize the result so that the probabilities correctly sum to 1.0. Normalization is done by dividing each element by the sum of all elements in the list. That is easy with NumPy:  \n",
    "这不是概率分布，因为它不等于1.0。但是该代码基本上是在做正确的事情-门分配的数字（0.3）比墙壁（0.1）高3倍。我们需要做的就是对结果进行归一化，以使概率正确加和为1.0。通过将每个元素除以列表中所有元素的总和来完成规范化。使用NumPy很容易："
   ]
  },
  {
   "cell_type": "code",
   "execution_count": 11,
   "metadata": {},
   "outputs": [
    {
     "data": {
      "text/plain": [
       "array([0.1875, 0.1875, 0.0625, 0.0625, 0.0625, 0.0625, 0.0625, 0.0625,\n",
       "       0.1875, 0.0625])"
      ]
     },
     "execution_count": 11,
     "metadata": {},
     "output_type": "execute_result"
    }
   ],
   "source": [
    "belief / sum(belief)"
   ]
  },
  {
   "cell_type": "markdown",
   "metadata": {},
   "source": [
    "FilterPy implements this with the `normalize` function:\n",
    "FilterPy通过`normalize`函数来实现：\n",
    "\n",
    "```Python\n",
    "from filterpy.discrete_bayes import normalize\n",
    "normalize(belief)\n",
    "```\n",
    "\n",
    "It is a bit odd to say \"3 times as likely to be right as wrong\". We are working in probabilities, so let's specify the probability of the sensor being correct, and compute the scale factor from that. The equation for that is  \n",
    "说“正确与错误的可能性是错误的3倍”有点奇怪。我们正在研究概率，因此让我们指定传感器正确的概率，并据此计算比例因子。等式是\n",
    "\n",
    "$$scale =  \\frac{prob_{correct}}{prob_{incorrect}} = \\frac{prob_{correct}} {1-prob_{correct}}$$\n",
    "\n",
    "\n",
    "Also, the `for` loop is cumbersome. As a general rule you will want to avoid using `for` loops in NumPy code. NumPy is implemented in C and Fortran, so if you avoid for loops the result often runs 100x faster than the equivalent loop.  \n",
    "另外，“ for”循环很麻烦。通常，您将要避免在NumPy代码中使用`for`循环。 NumPy在C和Fortran中实现，因此，如果避免使用for循环，则结果运行的速度通常比等效循环快100倍。\n",
    "\n",
    "How do we get rid of this `for` loop? NumPy lets you index arrays with boolean arrays. You create a boolean array with logical operators. We can find all the doors in the hallway with:  \n",
    "我们如何摆脱这个“ for”循环？ NumPy允许您使用布尔数组对数组进行索引。您使用逻辑运算符创建一个布尔数组。我们可以通过以下方式找到走廊上的所有门："
   ]
  },
  {
   "cell_type": "code",
   "execution_count": 12,
   "metadata": {},
   "outputs": [
    {
     "data": {
      "text/plain": [
       "array([ True,  True, False, False, False, False, False, False,  True,\n",
       "       False])"
      ]
     },
     "execution_count": 12,
     "metadata": {},
     "output_type": "execute_result"
    }
   ],
   "source": [
    "hallway == 1"
   ]
  },
  {
   "cell_type": "markdown",
   "metadata": {},
   "source": [
    "When you use the boolean array as an index to another array it returns only the elements where the index is `True`. Thus we can replace the `for` loop with  \n",
    "当您将布尔数组用作另一个数组的索引时，它仅返回索引为True的元素。因此我们可以将`for`循环替换为\n",
    "\n",
    "```python\n",
    "belief[hall==z] *= scale\n",
    "```\n",
    "and only the elements which equal `z` will be multiplied by `scale`.\n",
    "并且只有等于“ z”的元素才会与“ scale”相乘。\n",
    "\n",
    "Teaching you NumPy is beyond the scope of this book. I will use idiomatic NumPy constructs and explain them the first time I present them. If you are new to NumPy there are many blog posts and videos on how to use NumPy efficiently and idiomatically.  \n",
    "教您NumPy超出了本书的范围。我将使用惯用的NumPy构造并在我首次展示它们时对其进行解释。如果您不熟悉NumPy，则有很多博客文章和视频，介绍如何有效和惯用地使用NumPy。\n",
    "\n",
    "Here is our improved version:\n",
    "这是我们的改进版本："
   ]
  },
  {
   "cell_type": "code",
   "execution_count": 13,
   "metadata": {},
   "outputs": [
    {
     "name": "stdout",
     "output_type": "stream",
     "text": [
      "[0.1875 0.1875 0.0625 0.0625 0.0625 0.0625 0.0625 0.0625 0.1875 0.0625]\n",
      "sum = 1.0\n",
      "probability of door = 0.1875\n",
      "probability of wall = 0.06249999999999999\n"
     ]
    },
    {
     "data": {
      "image/png": "[encoded data removed]",
      "text/plain": [
       "<Figure size 640x480 with 1 Axes>"
      ]
     },
     "metadata": {},
     "output_type": "display_data"
    }
   ],
   "source": [
    "from filterpy.discrete_bayes import normalize\n",
    "\n",
    "def scaled_update(hall, belief, z, z_prob): \n",
    "    scale = z_prob / (1. - z_prob)\n",
    "    belief[hall==z] *= scale   # hall用于判断是否被测量\n",
    "    normalize(belief)          # 归一化=单一事件发生的概率/所有概率的和（1）\n",
    "    print(belief)\n",
    "\n",
    "belief = np.array([0.1] * 10)  # 先验分布每种的概率是1/10\n",
    "scaled_update(hallway, belief, z=1, z_prob=.75)\n",
    "\n",
    "print('sum =', sum(belief))\n",
    "print('probability of door =', belief[0])\n",
    "print('probability of wall =', belief[2])\n",
    "book_plots.bar_plot(belief, ylim=(0, .3))"
   ]
  },
  {
   "cell_type": "markdown",
   "metadata": {},
   "source": [
    "We can see from the output that the sum is now 1.0, and that the probability of a door vs wall is still three times larger. The result also fits our intuition that the probability of a door must be less than 0.333, and that the probability of a wall must be greater than 0.0. Finally, it should fit our intuition that we have not yet been given any information that would allow us to distinguish between any given door or wall position, so all door positions should have the same value, and the same should be true for wall positions.  \n",
    "从输出中我们可以看到，总和现在为1.0，门与墙的概率仍然是三倍。该结果也符合我们的直觉，即门的概率必须小于0.333，而壁的概率必须大于0.0。最后，符合我们的直觉的是，我们尚未获得任何可以区分任何给定门或壁位置的信息，因此所有门位置应具有相同的值，并且壁位置也应相同。\n",
    " \n",
    "This result is called the [*posterior*](https://en.wikipedia.org/wiki/Posterior_probability), which is short for *posterior probability distribution*. All this means is a probability distribution *after* incorporating the measurement information (posterior means 'after' in this context). To review, the *prior* is the probability distribution before including the measurement's information.   \n",
    "此结果称为[*posterior*](https://en.wikipedia.org/wiki/Posterior_probability) :  \n",
    "它是*后验概率分布*的缩写。<span class=\"burk\">所有这些均是合并测量信息后的概率分布（在此情况下，后均指“后”）。回顾一下，“先验”是包括测量信息之前的概率分布。</span>\n",
    "\n",
    "Another term is the [*likelihood*](https://en.wikipedia.org/wiki/Likelihood_function). When we computed `belief[hall==z] *= scale` we were computing how *likely* each position was given the measurement. The likelihood is not a probability distribution because it does not sum to one.  \n",
    "另一个术语是[*likelihood*](https://en.wikipedia.org/wiki/Likelihood_function):    \n",
    "<span class=\"burk\">当我们计算`belief [hall == z] * = scale`时, 我们正在计算每个位置被测量的可能性。似然性不是概率分布，因为它不等于1。</span>\n",
    "\n",
    "The combination of these gives the equation  \n",
    "这些的结合给出了等式\n",
    "\n",
    "$$\\mathtt{posterior(后验分布)} = \\frac{\\mathtt{likelihood(被测量的可能性)} \\times \\mathtt{prior(先验分布)}}{\\mathtt{normalization(正规化)}}$$ \n",
    "\n",
    "When we talk about the filter's output we typically call the state after performing the prediction the *prior* or *prediction*, and we call the state after the update either the *posterior* or the *estimated state*.   \n",
    "当我们谈论过滤器的输出时，通常将执行<span class=\"burk\">预测后</span>的状态称为*先验*或*预测*，将<span class=\"burk\">更新后</span>的状态称为*后验*或*估计后的状态*。\n",
    "\n",
    "It is very important to learn and internalize these terms as most of the literature uses them extensively.  \n",
    "学习和内化这些术语非常重要，因为大多数文献都广泛使用它们。\n",
    "\n",
    "Does `scaled_update()` perform this computation? It does. Let me recast it into this form:  \n",
    "`scaled_update()`是否执行此计算？是的让我将其重铸为以下形式："
   ]
  },
  {
   "cell_type": "code",
   "execution_count": 14,
   "metadata": {},
   "outputs": [
    {
     "name": "stdout",
     "output_type": "stream",
     "text": [
      "[0.1 0.1 0.1 0.1 0.1 0.1 0.1 0.1 0.1 0.1]\n",
      "sum = 1.0\n",
      "probability of door = 0.1875\n",
      "probability of wall = 0.06249999999999999\n"
     ]
    },
    {
     "data": {
      "image/png": "[encoded data removed]",
      "text/plain": [
       "<Figure size 640x480 with 1 Axes>"
      ]
     },
     "metadata": {},
     "output_type": "display_data"
    }
   ],
   "source": [
    "def scaled_update(hall, belief, z, z_prob):\n",
    "    # hall：有传感器的地方\n",
    "    # belief：先验分布，每种的可能性1/10\n",
    "    # z：要有传感器的位置\n",
    "    # z_prob：有传感器的地方，被测量的概率\n",
    "    scale = z_prob / (1. - z_prob)\n",
    "    likelihood = np.ones(len(hall))   \n",
    "    likelihood[hall==z] *= scale      # 每个位置肯可能被测量可能性，反应可能性高低\n",
    "    return normalize(likelihood * belief)\n",
    "\n",
    "belief = np.array([0.1] * 10)         # 先验分布每种的概率是1/10\n",
    "posterior = scaled_update(hallway, belief, z=1, z_prob=.75)\n",
    "print(belief)\n",
    "\n",
    "print('sum =', sum(posterior))\n",
    "print('probability of door =', posterior[0])\n",
    "print('probability of wall =', posterior[2])\n",
    "book_plots.bar_plot(posterior, ylim=(0, .3))"
   ]
  },
  {
   "cell_type": "markdown",
   "metadata": {},
   "source": [
    "This function is not fully general. It contains knowledge about the hallway, and how we match measurements to it. We always strive to write general functions. Here we will remove the computation of the likelihood from the function, and require the caller to compute the likelihood themselves.  \n",
    "此功能并不完全通用。它包含有关走廊的知识，以及我们如何将尺寸与之匹配的知识。我们始终努力编写一般功能。在这里，我们将从函数中删除似然计算，并要求调用者自己计算似然。\n",
    "\n",
    "Here is a full implementation of the algorithm:  \n",
    "这是该算法的完整实现\n",
    "\n",
    "```python\n",
    "def update(likelihood, prior):\n",
    "    return normalize(likelihood * prior)\n",
    "```\n",
    "\n",
    "Computation of the likelihood varies per problem. For example, the sensor might not return  just 1 or 0, but a `float` between 0 and 1 indicating the probability of being in front of a door. It might use computer vision and report a blob shape that you then probabilistically match to a door. It might use sonar and return a distance reading. In each case the computation of the likelihood will be different. We will see many examples of this throughout the book, and learn how to perform these calculations.  \n",
    "可能性的计算因问题而异。例如，传感器可能不只返回1或0，而是返回0到1之间的“浮点数”，表示出现在门前的可能性。它可能会使用计算机视觉并报告您可能会与门匹配的斑点形状。它可能使用声纳并返回距离读数。在每种情况下，可能性的计算将有所不同。在整本书中，我们将看到许多示例，并学习如何执行这些计算。\n",
    "\n",
    "FilterPy implements `update`. Here is the previous example in a fully general form:  \n",
    "FilterPy实现`update`。这是完全完整形式的先前示例："
   ]
  },
  {
   "cell_type": "code",
   "execution_count": 15,
   "metadata": {},
   "outputs": [
    {
     "name": "stdout",
     "output_type": "stream",
     "text": [
      "likelihood =  [3. 3. 1. 1. 1. 1. 1. 1. 3. 1.]\n"
     ]
    },
    {
     "data": {
      "text/plain": [
       "array([0.1875, 0.1875, 0.0625, 0.0625, 0.0625, 0.0625, 0.0625, 0.0625,\n",
       "       0.1875, 0.0625])"
      ]
     },
     "execution_count": 15,
     "metadata": {},
     "output_type": "execute_result"
    }
   ],
   "source": [
    "from filterpy.discrete_bayes import update\n",
    "\n",
    "def lh_hallway(hall, z, z_prob):\n",
    "    \"\"\" compute likelihood that a measurement matches\n",
    "        positions in the hallway.\n",
    "    计算测量值与走廊位置匹配的可能性。\n",
    "    \"\"\"\n",
    "    \n",
    "    try:\n",
    "        scale = z_prob / (1. - z_prob)   #\n",
    "    except ZeroDivisionError:\n",
    "        scale = 1e8   # 被除数是0时\n",
    "\n",
    "    likelihood = np.ones(len(hall))\n",
    "    likelihood[hall==z] *= scale\n",
    "    print(\"likelihood = \", likelihood)\n",
    "    return likelihood\n",
    "\n",
    "belief = np.array([0.1] * 10)\n",
    "likelihood = lh_hallway(hallway, z=1, z_prob=.75)\n",
    "update(likelihood, belief)   # (posterior = prior * likelihood)/sum(posterior)"
   ]
  },
  {
   "cell_type": "markdown",
   "metadata": {},
   "source": [
    "## Incorporating Movement  融入运动\n",
    "\n",
    "Recall how quickly we were able to find an exact solution when we incorporated a series of measurements and movement updates. However, that occurred in a fictional world of perfect sensors. Might we be able to find an exact solution with noisy sensors?  \n",
    "回想一下，当我们结合了一系列测量和运动更新时，能够很快找到精确的解决方案。但是，这发生在理想传感器的虚构世界中。也许我们能够找到带有噪声传感器的精确解决方案？\n",
    "\n",
    "Unfortunately, the answer is no. Even if the sensor readings perfectly match an extremely complicated hallway map, we cannot be 100% certain that the dog is in a specific position - there is, after all, a tiny possibility that every sensor reading was wrong! Naturally, in a more typical situation most sensor readings will be correct, and we might be close to 100% sure of our answer, but never 100% sure. This may seem complicated, but let's go ahead and program the math.  \n",
    "不幸的是，答案是否定的。即使传感器的读数与极其复杂的走廊地图完全匹配，我们也不能100％地确定狗是否处于特定的位置-毕竟，每个传感器读数有错误的可能性很小！自然，在更典型的情况下，大多数传感器读数都将是正确的，我们可能对答案的把握接近100％，但从来就不确定100％。这似乎很复杂，但让我们继续进行数学编程。\n",
    "\n",
    "First let's deal with the simple case - assume the movement sensor is perfect, and it reports that the dog has moved one space to the right. How would we alter our `belief` array?\n",
    "首先，让我们处理一个简单的案例-假设运动传感器是完美的，并且它报告狗已经向右移动了一个空间。我们将如何改变`信念`数组？\n",
    "\n",
    "I hope that after a moment's thought it is clear that we should shift all the values one space to the right. If we previously thought there was a 50% chance of Simon being at position 3, then after he moved one position to the right we should believe that there is a 50% chance he is at position 4. The hallway is circular, so we will use modulo arithmetic to perform the shift.  \n",
    "我希望经过一会儿很清楚，我们应该将所有值向右移动一个空格。如果我们以前认为Simon有50％的机会位于第3位，那么在他将一个位置向右移动之后，我们应该相信Simon有50％的机会位于第4位。走廊是圆形的，所以我们将使用模算术执行移位。"
   ]
  },
  {
   "cell_type": "code",
   "execution_count": 16,
   "metadata": {},
   "outputs": [
    {
     "name": "stdout",
     "output_type": "stream",
     "text": [
      "[0.35 0.1  0.2  0.3  0.   0.   0.   0.   0.   0.05]\n",
      "[0.   0.   0.05 0.35 0.1  0.2  0.3  0.   0.   0.  ]\n"
     ]
    },
    {
     "data": {
      "image/png": "[encoded data removed]",
      "text/plain": [
       "<Figure size 640x480 with 2 Axes>"
      ]
     },
     "metadata": {},
     "output_type": "display_data"
    }
   ],
   "source": [
    "def perfect_predict(belief, move):\n",
    "    \"\"\" move the position by `move` spaces, where positive is \n",
    "    to the right, and negative is to the left\n",
    "    通过“移动”空间 来移动位置，其中正数在右侧，负数在左侧\n",
    "    \n",
    "    belief：先验分布每种的概率是1/10\n",
    "    \"\"\"\n",
    "    n = len(belief)\n",
    "    result = np.zeros(n)\n",
    "    for i in range(n):\n",
    "        #print(i, \"-\", move, \"=\", i-move, \":\", (i-move) % n)\n",
    "        result[i] = belief[(i-move) % n]  # 移动0位，向右移动\n",
    "    return result\n",
    "\n",
    "# 先验分布      \n",
    "belief = np.array([.35, .1, .2, .3, 0, 0, 0, 0, 0, .05])\n",
    "plt.subplot(121)\n",
    "book_plots.bar_plot(belief, title='Before prediction', ylim=(0, .4))\n",
    "print(belief)\n",
    "\n",
    "# 移动1步事件发生了，条件的后验分布：\n",
    "belief = perfect_predict(belief, 3)\n",
    "plt.subplot(122)\n",
    "book_plots.bar_plot(belief, title='After prediction', ylim=(0, .4))\n",
    "print(belief)"
   ]
  },
  {
   "cell_type": "markdown",
   "metadata": {},
   "source": [
    "We can see that we correctly shifted all values one position to the right, wrapping from the end of the array back to the beginning.   \n",
    "我们可以看到我们将所有值正确地向右移了一个位置，从数组的末尾回绕到开头。\n",
    "\n",
    "The next cell animates this so you can see it in action. Use the slider to move forwards and backwards in time. This simulates Simon walking around and around the hallway. It does not yet incorporate new measurements so the probability distribution does not change shape, only position.  \n",
    "下一个单元会对此进行动画处理，以便您可以看到它的实际效果。使用滑块在时间上向前和向后移动。这模拟了西蒙在走廊周围走来走去。它尚未合并新的测量值，因此概率分布不会改变形状，只会改变位置。"
   ]
  },
  {
   "cell_type": "code",
   "execution_count": 17,
   "metadata": {},
   "outputs": [
    {
     "data": {
      "application/vnd.jupyter.widget-view+json": {
       "model_id": "20618850ef4f4bf59e2e286e6a9890b2",
       "version_major": 2,
       "version_minor": 0
      },
      "text/plain": [
       "interactive(children=(IntSlider(value=0, description='time_step', max=19), Output()), _dom_classes=('widget-in…"
      ]
     },
     "metadata": {},
     "output_type": "display_data"
    }
   ],
   "source": [
    "from ipywidgets import interact, IntSlider\n",
    "\n",
    "belief = np.array([.35, .1, .2, .3, 0, 0, 0, 0, 0, .05])\n",
    "perfect_beliefs = []\n",
    "\n",
    "# 储存移动20步数据\n",
    "for _ in range(20):\n",
    "    # Simon takes one step to the right\n",
    "    belief = perfect_predict(belief, 1)\n",
    "    perfect_beliefs.append(belief)\n",
    "    #print(belief)\n",
    "\n",
    "def simulate(time_step):\n",
    "    book_plots.bar_plot(perfect_beliefs[time_step], ylim=(0, .4))\n",
    "    \n",
    "interact(simulate, time_step=IntSlider(value=0, max=len(perfect_beliefs)-1));"
   ]
  },
  {
   "cell_type": "markdown",
   "metadata": {},
   "source": [
    "## Terminology  术语\n",
    "\n",
    "Let's pause a moment to review terminology. I introduced this terminology in the last chapter, but let's take a second to help solidify your knowledge.   \n",
    "让我们暂停一下以回顾术语。我在上一章中介绍了此术语，但让我们花点时间来巩固您的知识。\n",
    "\n",
    "The *system* is what we are trying to model or filter. Here the system is our dog. The *state* is its current configuration or value. In this chapter the state is our dog's position. We rarely know the actual state, so we say our filters produce the *estimated state* of the system. In practice this often gets called the state, so be careful to understand the context.  \n",
    "系统就是我们要建模或过滤的东西。在这里，系统就是我们的狗。 *state*是其当前配置或值。在本章中，状态是我们狗的位置。我们很少知道实际状态，因此我们说过滤器会产生系统的“估计状态”。在实践中，这通常被称为状态，因此请小心了解上下文。\n",
    " \n",
    "One cycle of prediction and updating with a measurement is called the state or system *evolution*, which is short for *time evolution* [7]. Another term is *system propagation*. It refers to how the state of the system changes over time. For filters, time is usually a discrete step, such as 1 second. For our dog tracker the system state is the position of the dog, and the state evolution is the position after a discrete amount of time has passed.  \n",
    "通过测量进行预测和更新的一个周期称为状态或系统*演化*，它是*时间演化* [7]的缩写。另一个术语是*系统传播*。它指的是系统状态随时间变化的方式。对于过滤器，时间通常是一个离散的步骤，例如1秒。对于我们的狗跟踪器，系统状态是狗的位置，状态演化是经过离散时间后的位置。\n",
    "\n",
    "We model the system behavior with the *process model*. Here, our process model is that the dog moves one or more positions at each time step. This is not a particularly accurate model of how dogs behave. The error in the model is called the *system error* or *process error*.   \n",
    "我们使用*过程模型*对系统行为进行建模。在这里，我们的过程模型是狗在每个时间步移动一个或多个位置。这不是狗的行为特别准确的模型。模型中的错误称为“系统错误”或*过程错误*。\n",
    "\n",
    "The prediction is our new *prior*. Time has moved forward and we made a prediction without benefit of knowing the measurements.   \n",
    "预测是我们新的*先验分布*。时间向前发展，我们在不了解测量结果的情况下做出了预测。\n",
    "\n",
    "Let's work an example. The current position of the dog is 17 m. Our epoch is 2 seconds long, and the dog is traveling at 15 m/s. Where do we predict he will be in two seconds?   \n",
    "让我们举个例子。狗的当前位置是17 m。我们的纪元是2秒长，狗以15 m/s的速度行进。我们预计他两秒钟后会在哪里？\n",
    "\n",
    "\n",
    "Clearly 明显地,\n",
    "\n",
    "$$ \\begin{aligned}\n",
    "\\bar x &= 17 + (15*2) \\\\\n",
    "&= 47\n",
    "\\end{aligned}$$\n",
    "\n",
    "I use bars over variables to indicate that they are priors (predictions). We can write the equation for the process model like this:  \n",
    "我在变量上使用小节来表示它们是先验的（预测）。我们可以这样编写过程模型的方程式：\n",
    "\n",
    "$$ \\bar x_{k+1} = f_x(\\bullet) + x_k$$\n",
    "\n",
    "$x_k$ is the current position or state. If the dog is at 17 m then $x_k = 17$.  \n",
    "$x_k$是当前位置或状态。如果狗在17 m处，则$x_k = 17$。\n",
    "\n",
    "$f_x(\\bullet)$ is the state propagation function for x. It describes how much the $x_k$ changes over one time step. For our example it performs the computation $15 \\cdot 2$ so we would define it as   \n",
    "$f_x(\\bullet)$是x的状态传播函数(状态转移函数)。它描述了$x_k$在一个时间步中变化了多少。对于我们的示例，它执行计算$15 \\cdot 2$，因此我们将其定义为\n",
    "\n",
    "$$f_x(v_x, t) = v_k t$$."
   ]
  },
  {
   "cell_type": "markdown",
   "metadata": {},
   "source": [
    "## Adding Uncertainty to the Prediction  为预测增加不确定性\n",
    "\n",
    "`perfect_predict()` assumes perfect measurements, but all sensors have noise. What if the sensor reported that our dog moved one space, but he actually moved two spaces, or zero? This may sound like an insurmountable problem, but let's model it and see what happens.  \n",
    "`perfect_predict()`假设测量完美，但是所有传感器都有噪声。如果传感器报告我们的狗移动了一个空间，但实际上却移动了两个空间，或者为零，该怎么办？这听起来像是一个无法解决的问题，但让我们对其进行建模，看看会发生什么。\n",
    "\n",
    "Assume that the sensor's movement measurement is 80% likely to be correct, 10% likely to overshoot one position to the right, and 10% likely to undershoot to the left. That is, if the movement measurement is 4 (meaning 4 spaces to the right), the dog is 80% likely to have moved 4 spaces to the right, 10% to have moved 3 spaces, and 10% to have moved 5 spaces.  \n",
    "假设传感器的运动测量值是80％是正确的，有10％可能超出右边的一个位置，有10％可能低于左边的位置。也就是说，如果运动度量为4（表示向右4个空格），则狗有80％可能向右移动4个空格，10％可能移动了3个空格，而10％可能移动了5个空格。\n",
    "\n",
    "Each result in the array now needs to incorporate probabilities for 3 different situations. For example, consider the reported movement of 2. If we are 100% certain the dog started from position 3, then there is an 80% chance he is at 5, and a 10% chance for either 4 or 6. Let's try coding that:  \n",
    "现在，数组中的每个结果都需要合并3种不同情况的概率。例如，考虑报告的运动2。如果我们100％确定狗从位置3开始，那么他在5处的机率就有80％，在4或6的机率是10％。让我们尝试对它进行编码："
   ]
  },
  {
   "cell_type": "code",
   "execution_count": 18,
   "metadata": {},
   "outputs": [
    {
     "data": {
      "image/png": "[encoded data removed]",
      "text/plain": [
       "<Figure size 640x480 with 2 Axes>"
      ]
     },
     "metadata": {},
     "output_type": "display_data"
    }
   ],
   "source": [
    "def predict_move(belief, move, p_under, p_correct, p_over):\n",
    "    n = len(belief)\n",
    "    prior = np.zeros(n)\n",
    "    for i in range(n):\n",
    "        prior[i] = (\n",
    "            belief[(i-move)%n]  * p_correct +\n",
    "            belief[(i-move-1)%n]* p_under +\n",
    "            belief[(i-move+1)%n]* p_over)\n",
    "    return prior\n",
    "    \n",
    "belief = [0., 0., 0., 1., 0., 0., 0., 0., 0., 0.]\n",
    "prior = predict_move(belief, 2, .1, .8, .1)\n",
    "book_plots.plot_belief_vs_prior(belief, prior)"
   ]
  },
  {
   "cell_type": "code",
   "execution_count": 19,
   "metadata": {},
   "outputs": [
    {
     "name": "stdout",
     "output_type": "stream",
     "text": [
      "0.0\n",
      "0.0\n",
      "0.0\n",
      "0.0\n",
      "0.0\n",
      "0.0\n",
      "0.0\n",
      "0.1\n",
      "0.8\n",
      "0.1\n"
     ]
    },
    {
     "data": {
      "image/png": "[encoded data removed]",
      "text/plain": [
       "<Figure size 640x480 with 2 Axes>"
      ]
     },
     "metadata": {},
     "output_type": "display_data"
    }
   ],
   "source": [
    "def predict_move(belief, move, p_under, p_correct, p_over):\n",
    "    n = len(belief)\n",
    "    prior = np.zeros(n)\n",
    "    for i in range(n):\n",
    "        prior[i] = (\n",
    "            belief[(i-move) % n]   * p_correct +\n",
    "            belief[(i-move-1) % n] * p_over +\n",
    "            belief[(i-move+1) % n] * p_under)   \n",
    "        print(prior[i])\n",
    "    return prior\n",
    "\n",
    "belief = [0., 0., 0., 1., 0., 0., 0., 0., 0., 0.]  # 先验分布，小狗确切位置\n",
    "prior = predict_move(belief, 5, .1, .8, .1)        # 状态转移\n",
    "book_plots.plot_belief_vs_prior(belief, prior)"
   ]
  },
  {
   "cell_type": "markdown",
   "metadata": {},
   "source": [
    "It appears to work correctly. Now what happens when our belief is not 100% certain?"
   ]
  },
  {
   "cell_type": "code",
   "execution_count": 20,
   "metadata": {},
   "outputs": [
    {
     "name": "stdout",
     "output_type": "stream",
     "text": [
      "0.0\n",
      "0.0\n",
      "0.0\n",
      "0.04000000000000001\n",
      "0.38000000000000006\n",
      "0.52\n",
      "0.06\n",
      "0.0\n",
      "0.0\n",
      "0.0\n"
     ]
    },
    {
     "data": {
      "text/plain": [
       "array([0.  , 0.  , 0.  , 0.04, 0.38, 0.52, 0.06, 0.  , 0.  , 0.  ])"
      ]
     },
     "execution_count": 20,
     "metadata": {},
     "output_type": "execute_result"
    },
    {
     "data": {
      "image/png": "[encoded data removed]",
      "text/plain": [
       "<Figure size 640x480 with 2 Axes>"
      ]
     },
     "metadata": {},
     "output_type": "display_data"
    }
   ],
   "source": [
    "belief = [0, 0, .4, .6, 0, 0, 0, 0, 0, 0]\n",
    "prior = predict_move(belief, 2, .1, .8, .1)\n",
    "book_plots.plot_belief_vs_prior(belief, prior)\n",
    "prior"
   ]
  },
  {
   "cell_type": "markdown",
   "metadata": {},
   "source": [
    "Here the results are more complicated, but you should still be able to work it out in your head. The 0.04 is due to the possibility that the 0.4 belief undershot by 1. The 0.38 is due to the following: the 80% chance that we moved 2 positions (0.4 $\\times$ 0.8) and the 10% chance that we undershot (0.6 $\\times$ 0.1). Overshooting plays no role here because if we overshot both 0.4 and 0.6 would be past this position. **I strongly suggest working some examples until all of this is very clear, as so much of what follows depends on understanding this step.**  \n",
    "在这里，结果更为复杂，但是您仍然应该可以将其解决。 0.04是由于0.4信念被1击倒的可能性。0.38是由于以下原因：我们移动2个头寸的可能性为80％（0.4 $\\times$ 0.8），而我们被击倒的概率为10％（0.6 $\\times$ 0.1）。超调在这里不起作用，因为如果我们超调0.4和0.6都将超过该位置。 **我强烈建议您做一些例子，直到所有这些都非常清楚为止，因为接下来的大部分工作取决于对这一步骤的理解。**\n",
    "\n",
    "If you look at the probabilities after performing the update you might be dismayed. In the example above we started with probabilities of 0.4 and 0.6 in two positions; after performing the update the probabilities are not only lowered, but they are strewn out across the map.  \n",
    "如果在执行更新后查看概率，则可能会感到沮丧。在上面的示例中，我们从两个位置的概率分别为0.4和0.6开始。执行更新后，不仅降低了概率，而且还分散了整个地图\n",
    "\n",
    "This is not a coincidence, or the result of a carefully chosen example - it is always true of the prediction. If the sensor is noisy we lose some information on every prediction. Suppose we were to perform the prediction an infinite number of times - what would the result be? If we lose information on every step, we must eventually end up with no information at all, and our probabilities will be equally distributed across the `belief` array. Let's try this with 100 iterations. The plot is animated; use the slider to change the step number.  \n",
    "<span class=\"burk\">这不是巧合，也不是精心选择的示例的结果-预测始终正确。如果传感器嘈杂，我们在每次预测时都会丢失一些信息。假设我们要进行无数次预测-结果将是什么？如果我们在每一步上都丢失了信息，那么我们最终将最终根本没有任何信息，并且我们的概率将平均分布在“信念”数组中。让我们尝试100次迭代。剧情是动画的；使用滑块更改步数。</span>"
   ]
  },
  {
   "cell_type": "code",
   "execution_count": 21,
   "metadata": {},
   "outputs": [
    {
     "name": "stdout",
     "output_type": "stream",
     "text": [
      "0.1\n",
      "0.8\n",
      "0.1\n",
      "0.0\n",
      "0.0\n",
      "0.0\n",
      "0.0\n",
      "0.0\n",
      "0.0\n",
      "0.0\n",
      "0.010000000000000002\n",
      "0.16000000000000003\n",
      "0.6600000000000001\n",
      "0.16000000000000003\n",
      "0.010000000000000002\n",
      "0.0\n",
      "0.0\n",
      "0.0\n",
      "0.0\n",
      "0.0\n",
      "0.0010000000000000002\n",
      "0.024000000000000007\n",
      "0.19500000000000006\n",
      "0.5600000000000002\n",
      "0.19500000000000006\n",
      "0.024000000000000007\n",
      "0.0010000000000000002\n",
      "0.0\n",
      "0.0\n",
      "0.0\n",
      "0.00010000000000000003\n",
      "0.0032000000000000015\n",
      "0.038800000000000015\n",
      "0.2144000000000001\n",
      "0.4870000000000002\n",
      "0.2144000000000001\n",
      "0.038800000000000015\n",
      "0.0032000000000000015\n",
      "0.00010000000000000003\n",
      "0.0\n",
      "2.000000000000001e-05\n",
      "0.00040000000000000024\n",
      "0.006450000000000003\n",
      "0.05280000000000003\n",
      "0.2241000000000001\n",
      "0.4324800000000002\n",
      "0.2241000000000001\n",
      "0.05280000000000003\n",
      "0.006450000000000003\n",
      "0.00040000000000000024\n",
      "0.0009670000000000005\n",
      "9.600000000000006e-05\n",
      "0.0009670000000000004\n",
      "0.010480000000000007\n",
      "0.06529500000000005\n",
      "0.22780800000000012\n",
      "0.39080400000000026\n",
      "0.22780800000000012\n",
      "0.06529500000000005\n",
      "0.010480000000000005\n",
      "0.01501020000000001\n",
      "0.001831200000000001\n",
      "0.00027020000000000017\n",
      "0.0018312000000000011\n",
      "0.015010200000000012\n",
      "0.07606480000000006\n",
      "0.22785630000000012\n",
      "0.3582048000000002\n",
      "0.22785630000000015\n",
      "0.07606480000000006\n",
      "0.08513849000000007\n",
      "0.019797760000000015\n",
      "0.0029930000000000017\n",
      "0.0005824000000000004\n",
      "0.0029930000000000026\n",
      "0.01979776000000002\n",
      "0.08513849000000007\n",
      "0.22571200000000013\n",
      "0.3321351000000002\n",
      "0.22571200000000013\n",
      "0.22229695900000015\n",
      "0.09266176800000007\n",
      "0.02465135700000002\n",
      "0.004432416000000003\n",
      "0.0010645200000000007\n",
      "0.004432416000000005\n",
      "0.024651357000000023\n",
      "0.09266176800000007\n",
      "0.22229695900000015\n",
      "0.3108504800000002\n",
      "0.2931397758000002\n",
      "0.21818879200000016\n",
      "0.09882424600000007\n",
      "0.029430504000000027\n",
      "0.0061175205000000045\n",
      "0.0017380992000000015\n",
      "0.006117520500000006\n",
      "0.02943050400000003\n",
      "0.09882424600000009\n",
      "0.21818879200000016\n",
      "0.21374743578000016\n",
      "0.27814957904000026\n",
      "0.21374743578000016\n",
      "0.1038213264000001\n",
      "0.03403857985000003\n",
      "0.008010876720000008\n",
      "0.0026139834600000023\n",
      "0.00801087672000001\n",
      "0.034038579850000035\n",
      "0.1038213264000001\n",
      "0.1078356626830001\n",
      "0.2091950391680002\n",
      "0.26526915038800025\n",
      "0.20919503916800017\n",
      "0.1078356626830001\n",
      "0.03841408419200004\n",
      "0.01007395770700001\n",
      "0.003693362112000004\n",
      "0.010073957707000012\n",
      "0.03841408419200004\n",
      "0.042522229392600044\n",
      "0.1110294424824001\n",
      "0.2046665126415002\n",
      "0.25405432814400025\n",
      "0.20466651264150018\n",
      "0.1110294424824001\n",
      "0.042522229392600044\n",
      "0.012269910796000013\n",
      "0.004969481231000006\n",
      "0.012269910796000014\n",
      "0.014565099699160018\n",
      "0.04634771884192005\n",
      "0.11354242818933011\n",
      "0.20024158717584023\n",
      "0.24417676504350025\n",
      "0.2002415871758402\n",
      "0.11354242818933011\n",
      "0.04634771884192005\n",
      "0.014565099699160016\n",
      "0.006429567144000008\n",
      "0.00805667365503201\n",
      "0.01692980835792002\n",
      "0.04988892786238506\n",
      "0.11549287315324012\n",
      "0.19596518906395524\n",
      "0.23538972946996828\n",
      "0.19596518906395521\n",
      "0.11549287315324012\n",
      "0.04988892786238506\n",
      "0.01692980835792002\n",
      "0.019338406838077724\n",
      "0.009831300595609611\n",
      "0.019338406838077724\n",
      "0.05315341044102407\n",
      "0.11697971021522613\n",
      "0.19186041151348504\n",
      "0.22750482138876568\n",
      "0.191860411513485\n",
      "0.11697971021522613\n",
      "0.05315341044102407\n",
      "0.05615454005814964\n",
      "0.02176919657412555\n",
      "0.011732721844103237\n",
      "0.02176919657412555\n",
      "0.05615454005814964\n",
      "0.11808515036763181\n",
      "0.18793678237118722\n",
      "0.22037593941370956\n",
      "0.18793678237118722\n",
      "0.11808515036763181\n",
      "0.11887725253703914\n",
      "0.05890906674069545\n",
      "0.02420408344952573\n",
      "0.013740016790107699\n",
      "0.02420408344952573\n",
      "0.05890906674069545\n",
      "0.11887725253703914\n",
      "0.1841955348750839\n",
      "0.2138881080052051\n",
      "0.1841955348750839\n",
      "0.18063296395429154\n",
      "0.11941226219120925\n",
      "0.06143538699121285\n",
      "0.0266281751127009\n",
      "0.015832830121991305\n",
      "0.0266281751127009\n",
      "0.06143538699121285\n",
      "0.11941226219120925\n",
      "0.18063296395429154\n",
      "0.2079495933791809\n",
      "0.202486267494203\n",
      "0.17724255672047223\n",
      "0.11973664484751784\n",
      "0.06375235332336131\n",
      "0.02902936180148114\n",
      "0.017991899120133225\n",
      "0.02902936180148114\n",
      "0.06375235332336131\n",
      "0.11973664484751785\n",
      "0.17724255672047223\n",
      "0.17401633661054988\n",
      "0.19743752533945685\n",
      "0.17401633661054988\n",
      "0.11988880688239764\n",
      "0.06587848332358895\n",
      "0.031397914685534364\n",
      "0.020199391656402808\n",
      "0.031397914685534364\n",
      "0.06587848332358895\n",
      "0.11988880688239764\n",
      "0.119900527499332\n",
      "0.17094570251062538\n",
      "0.19275328759367547\n",
      "0.17094570251062535\n",
      "0.119900527499332\n",
      "0.06783145881566437\n",
      "0.03372611924642667\n",
      "0.02243909626222912\n",
      "0.03372611924642667\n",
      "0.06783145881566435\n",
      "0.06962783172710735\n",
      "0.11979813813209457\n",
      "0.16802194351780106\n",
      "0.18839177057706546\n",
      "0.16802194351780103\n",
      "0.11979813813209457\n",
      "0.06962783172710736\n",
      "0.03600795090493068\n",
      "0.024696500859068632\n",
      "0.03600795090493068\n",
      "0.03823879398256214\n",
      "0.0712828742853884\n",
      "0.1196034880301665\n",
      "0.16523654568515686\n",
      "0.18431780516521257\n",
      "0.16523654568515683\n",
      "0.11960348803016649\n",
      "0.07128287428538843\n",
      "0.03823879398256214\n",
      "0.026958790868241045\n",
      "0.029214791491105268\n",
      "0.04041520170141266\n",
      "0.0728105276295836\n",
      "0.11933473242118774\n",
      "0.16258136586766342\n",
      "0.18050155326920142\n",
      "0.16258136586766336\n",
      "0.11933473242118771\n",
      "0.07281052762958361\n",
      "0.04041520170141266\n",
      "0.04253469327319902\n",
      "0.03145487353316675\n",
      "0.04253469327319902\n",
      "0.07422341551592691\n",
      "0.1190069752866749\n",
      "0.16004872126316966\n",
      "0.1769175157888938\n",
      "0.1600487212631696\n",
      "0.11900697528667487\n",
      "0.07422341551592693\n",
      "0.07553289926872894\n",
      "0.04459558352346859\n",
      "0.03367083748117321\n",
      "0.04459558352346859\n",
      "0.07553289926872891\n",
      "0.11863279390724957\n",
      "0.1576314261180926\n",
      "0.17354375688374898\n",
      "0.15763142611809255\n",
      "0.11863279390724954\n",
      "0.11822266766448179\n",
      "0.07674915715805497\n",
      "0.046596840493765085\n",
      "0.03585578668963228\n",
      "0.046596840493765085\n",
      "0.07674915715805496\n",
      "0.1182226676644818\n",
      "0.15532279597357393\n",
      "0.1703612907306177\n",
      "0.1553227959735739\n",
      "0.15311663261836908\n",
      "0.11778532944474834\n",
      "0.07788127654226867\n",
      "0.0485379667797808\n",
      "0.03800399745045884\n",
      "0.0485379667797808\n",
      "0.07788127654226866\n",
      "0.11778532944474834\n",
      "0.15311663261836908\n",
      "0.16735359177920897\n",
      "0.16450619994704102\n",
      "0.15100719821709102\n",
      "0.11732805447186245\n",
      "0.07893735085626787\n",
      "0.05041890082309739\n",
      "0.04011079131632324\n",
      "0.05041890082309739\n",
      "0.07893735085626785\n",
      "0.11732805447186245\n",
      "0.15100719821709102\n",
      "0.14898918401556316\n",
      "0.16180639960105103\n",
      "0.14898918401556316\n",
      "0.11685689848482585\n",
      "0.07992457621451028\n",
      "0.052239934875737026\n",
      "0.04217241321767806\n",
      "0.052239934875737026\n",
      "0.07992457621451027\n",
      "0.11685689848482585\n",
      "0.11637689481086802\n",
      "0.14705767702103822\n",
      "0.15924295648395348\n",
      "0.14705767702103822\n",
      "0.11637689481086802\n",
      "0.08084934430766452\n",
      "0.05400164684380846\n",
      "0.044185917549289855\n",
      "0.054001646843808454\n",
      "0.08084934430766451\n",
      "0.08171732961159925\n",
      "0.1158922179815647\n",
      "0.14520812674631273\n",
      "0.15680590059137045\n",
      "0.14520812674631273\n",
      "0.1158922179815647\n",
      "0.08171732961159926\n",
      "0.05570484366074221\n",
      "0.04614906340819358\n",
      "0.05570484366074221\n",
      "0.05735051423057305\n",
      "0.0825335698535101\n",
      "0.11540632002104297\n",
      "0.14343631325434372\n",
      "0.1544863458223589\n",
      "0.1434363132543437\n",
      "0.11540632002104297\n",
      "0.08253356985351011\n",
      "0.05735051423057305\n",
      "0.048060219458703306\n",
      "0.04991827841307725\n",
      "0.058939790315679794\n",
      "0.08330253930796969\n",
      "0.11492204432761977\n",
      "0.14173831718781515\n",
      "0.15227633930875586\n",
      "0.14173831718781515\n",
      "0.11492204432761977\n",
      "0.08330253930796969\n",
      "0.058939790315679794\n",
      "0.06047391402464854\n",
      "0.05172258079359776\n",
      "0.06047391402464853\n",
      "0.0840282149107057\n",
      "0.1144417211116743\n",
      "0.1401104921138897\n",
      "0.15016873488456772\n",
      "0.14011049211388968\n",
      "0.1144417211116743\n",
      "0.08402821491070571\n",
      "0.08471413544219686\n",
      "0.06195421079014918\n",
      "0.053472847439807916\n",
      "0.06195421079014917\n",
      "0.08471413544219683\n",
      "0.11396724759179899\n",
      "0.13854943929073596\n",
      "0.14815708633043212\n",
      "0.13854943929073596\n",
      "0.11396724759179899\n",
      "0.11350015554673248\n",
      "0.08536345419195229\n",
      "0.06338206692031982\n",
      "0.05516912010987617\n",
      "0.06338206692031982\n",
      "0.08536345419195228\n",
      "0.11350015554673248\n",
      "0.1370519848248119\n",
      "0.1462355569224929\n",
      "0.1370519848248119\n",
      "0.13561515910677208\n",
      "0.11304166833906243\n",
      "0.08597898560026708\n",
      "0.06475891096643871\n",
      "0.056811709471964913\n",
      "0.06475891096643871\n",
      "0.08597898560026707\n",
      "0.11304166833906243\n",
      "0.13561515910677208\n",
      "0.1443988425029567\n",
      "0.14264210582371978\n",
      "0.1342361783696196\n",
      "0.11259274914195387\n",
      "0.08656324641076378\n",
      "0.06608619828037417\n",
      "0.058401149770859674\n",
      "0.06608619828037417\n",
      "0.08656324641076377\n",
      "0.11259274914195387\n",
      "0.13423617836961957\n",
      "0.132912428192263\n",
      "0.14096092033289975\n",
      "0.13291242819226307\n",
      "0.11215414179160144\n",
      "0.08711849187084382\n",
      "0.06736539824246168\n",
      "0.059938159472762584\n",
      "0.06736539824246168\n",
      "0.08711849187084382\n",
      "0.11215414179160144\n",
      "0.11172640543959185\n",
      "0.13164144876626055\n",
      "0.13935122190477242\n",
      "0.13164144876626058\n",
      "0.11172640543959185\n",
      "0.08764674750008138\n",
      "0.06859798372832998\n",
      "0.06142360722670241\n",
      "0.06859798372832998\n",
      "0.08764674750008136\n",
      "0.08814983691685728\n",
      "0.11130994397830768\n",
      "0.13042092174744488\n",
      "0.13780926727707005\n",
      "0.1304209217474449\n",
      "0.11130994397830768\n",
      "0.08814983691685728\n",
      "0.06978542245534236\n",
      "0.06285848252702793\n",
      "0.06978542245534236\n",
      "0.07092916990866241\n",
      "0.08862940617685083\n",
      "0.11090503104907636\n",
      "0.12924865852349368\n",
      "0.136331598171145\n",
      "0.1292486585234937\n",
      "0.11090503104907637\n",
      "0.08862940617685083\n",
      "0.07092916990866241\n",
      "0.06424387051269081\n",
      "0.06558093039188514\n",
      "0.07203066359588409\n",
      "0.08908694503725455\n",
      "0.11051183130929554\n",
      "0.12812258974081708\n",
      "0.13491501024161476\n",
      "0.1281225897408171\n",
      "0.11051183130929557\n",
      "0.08908694503725455\n",
      "0.07203066359588409\n",
      "0.07309131841962124\n",
      "0.06687087703268493\n",
      "0.07309131841962124\n",
      "0.0895238055203216\n",
      "0.1101304185252436\n",
      "0.1270407559477447\n",
      "0.13355652614145525\n",
      "0.12704075594774472\n",
      "0.11013041852524363\n",
      "0.08952380552032162\n",
      "0.08994121811074378\n",
      "0.07411252299099766\n",
      "0.06811496531007219\n",
      "0.07411252299099766\n",
      "0.08994121811074376\n",
      "0.10976079096700153\n",
      "0.12600129922486564\n",
      "0.13225337210271315\n",
      "0.12600129922486566\n",
      "0.10976079096700156\n",
      "0.10940288450716219\n",
      "0.09034030588439496\n",
      "0.07509563673487973\n",
      "0.06931447684625729\n",
      "0.07509563673487973\n",
      "0.09034030588439493\n",
      "0.10940288450716218\n",
      "0.12500245568686397\n",
      "0.13100295752714367\n",
      "0.12500245568686402\n",
      "0.12404254875292182\n",
      "0.10905658376285565\n",
      "0.09072209683172015\n",
      "0.07604198766096901\n",
      "0.07047070882398178\n",
      "0.07604198766096901\n",
      "0.09072209683172014\n",
      "0.10905658376285564\n",
      "0.12404254875292176\n",
      "0.12980285715908774\n",
      "0.12865079547785455\n",
      "0.1231199830945318\n",
      "0.10872173156874873\n",
      "0.09108753460775859\n",
      "0.0769528706943454\n",
      "0.07158496459137922\n",
      "0.0769528706943454\n",
      "0.09108753460775859\n",
      "0.1087217315687487\n",
      "0.12311998309453175\n",
      "0.12223323918028574\n",
      "0.12754463300119\n",
      "0.12223323918028578\n",
      "0.10839813702522802\n",
      "0.09143748791251628\n",
      "0.0778295464753901\n",
      "0.07265854581197245\n",
      "0.0778295464753901\n",
      "0.09143748791251628\n",
      "0.108398137025228\n",
      "0.10808558232946261\n",
      "0.1213808683468704\n",
      "0.12648235423700915\n",
      "0.12138086834687044\n",
      "0.10808558232946262\n",
      "0.09177275868007484\n",
      "0.07867324055276095\n",
      "0.07369274594465597\n",
      "0.07867324055276095\n",
      "0.09177275868007484\n",
      "0.09209408923228224\n",
      "0.10778382856626462\n",
      "0.12056148833414351\n",
      "0.1254620570589814\n",
      "0.12056148833414354\n",
      "0.10778382856626463\n",
      "0.09209408923228224\n",
      "0.07948514290468185\n",
      "0.07468884486627697\n",
      "0.07948514290468185\n",
      "0.0802664077336014\n",
      "0.09240216853292044\n",
      "0.10749262060965427\n",
      "0.11977377922983942\n",
      "0.12448194331401383\n",
      "0.11977377922983944\n",
      "0.10749262060965428\n",
      "0.09240216853292044\n",
      "0.0802664077336014\n",
      "0.07564810447395795\n",
      "0.07657176512588665\n",
      "0.08101815348756895\n",
      "0.09269763766066191\n",
      "0.1072116912639994\n",
      "0.11901647977623836\n",
      "0.12354031049717895\n",
      "0.11901647977623836\n",
      "0.10721169126399943\n",
      "0.09269763766066193\n",
      "0.08101815348756895\n",
      "0.08174146306871002\n",
      "0.0774610427982231\n",
      "0.08174146306871002\n",
      "0.09298109460368637\n",
      "0.10694076475488956\n",
      "0.11828838399710855\n",
      "0.12263554435299084\n",
      "0.11828838399710855\n",
      "0.10694076475488959\n",
      "0.09298109460368639\n",
      "0.09325309846530909\n",
      "0.08243738419515897\n",
      "0.0783171268523205\n",
      "0.08243738419515896\n",
      "0.09325309846530905\n",
      "0.10667955966399115\n",
      "0.11758833810847488\n",
      "0.12176611228181439\n",
      "0.1175883381084749\n",
      "0.10667955966399117\n",
      "0.10642779138857134\n",
      "0.0935141731581623\n",
      "0.08310692988789015\n",
      "0.0791411783208882\n",
      "0.08310692988789013\n",
      "0.09351417315816225\n",
      "0.10642779138857131\n",
      "0.11691523768136047\n",
      "0.12093055744714651\n",
      "0.11691523768136047\n",
      "0.11626802502866018\n",
      "0.10618517419480936\n",
      "0.093764810654176\n",
      "0.08375107905821719\n",
      "0.07993432863428859\n",
      "0.08375107905821715\n",
      "0.09376481065417597\n",
      "0.10618517419480933\n",
      "0.11626802502866017\n",
      "0.12012749349398931\n",
      "0.11935559980092349\n",
      "0.115645686791808\n",
      "0.10595142292413112\n",
      "0.09400547384864347\n",
      "0.08437077717542023\n",
      "0.08069767871907431\n",
      "0.08437077717542017\n",
      "0.09400547384864343\n",
      "0.10595142292413108\n",
      "0.115645686791808\n",
      "0.11504725170595187\n",
      "0.11861361719910041\n",
      "0.11504725170595187\n",
      "0.10572625440335005\n",
      "0.09423659908886992\n",
      "0.08496693699710796\n",
      "0.0814322984103435\n",
      "0.08496693699710792\n",
      "0.09423659908886987\n",
      "0.10572625440335003\n",
      "0.1055093886021622\n",
      "0.11447178852500656\n",
      "0.1179003441004707\n",
      "0.11447178852500654\n",
      "0.10550938860216223\n",
      "0.09445859841114174\n",
      "0.08554043934760772\n",
      "0.08213922612769639\n",
      "0.08554043934760769\n",
      "0.0944585984111417\n",
      "0.09467186152389034\n",
      "0.10530054957534458\n",
      "0.11391840409026853\n",
      "0.11721463298537788\n",
      "0.11391840409026854\n",
      "0.10530054957534463\n",
      "0.09467186152389039\n",
      "0.08609213393196999\n",
      "0.08281946877167864\n",
      "0.08609213393196996\n",
      "0.08662284017513287\n",
      "0.09487675756984373\n",
      "0.10509946622169156\n",
      "0.11338624152828708\n",
      "0.11655538720635601\n",
      "0.1133862415282871\n",
      "0.1050994662216916\n",
      "0.09487675756984378\n",
      "0.08662284017513289\n",
      "0.0834740018037369\n",
      "0.08410376947801611\n",
      "0.08713334807746437\n",
      "0.09507363669555743\n",
      "0.10490587288716634\n",
      "0.11287447856543442\n",
      "0.11592155807074224\n",
      "0.11287447856543444\n",
      "0.10490587288716638\n",
      "0.09507363669555748\n",
      "0.08713334807746438\n",
      "0.08762441907932887\n",
      "0.08470968519790577\n",
      "0.08762441907932886\n",
      "0.09526283145290902\n",
      "0.10471950983583227\n",
      "0.11238232594813839\n",
      "0.11531214216968068\n",
      "0.11238232594813842\n",
      "0.1047195098358323\n",
      "0.09526283145290908\n",
      "0.09544465805384338\n",
      "0.0880967869285446\n",
      "0.0852926319741904\n",
      "0.08809678692854457\n",
      "0.09544465805384333\n",
      "0.10454012360877056\n",
      "0.111909025959062\n",
      "0.11472617892537222\n",
      "0.11190902595906205\n",
      "0.10454012360877057\n",
      "0.10436746728830701\n",
      "0.09561941749680622\n",
      "0.08855115854563905\n",
      "0.08585346296506123\n",
      "0.08855115854563902\n",
      "0.09561941749680619\n",
      "0.10436746728830698\n",
      "0.11145385102066391\n",
      "0.11416274833211018\n",
      "0.11145385102066394\n",
      "0.11101610237857287\n",
      "0.10420130068239263\n",
      "0.09578739658083958\n",
      "0.088988214882698\n",
      "0.0863930020811768\n",
      "0.08898821488269795\n",
      "0.09578739658083957\n",
      "0.10420130068239261\n",
      "0.11101610237857285\n",
      "0.11362096886982093\n",
      "0.11309999557157133\n",
      "0.11059510885807965\n",
      "0.10404139044185534\n",
      "0.09594886882118073\n",
      "0.08940861177236004\n",
      "0.08691204464148104\n",
      "0.08940861177236001\n",
      "0.09594886882118073\n",
      "0.10404139044185533\n",
      "0.11059510885807963\n",
      "0.11019022568780637\n",
      "0.112599018228873\n",
      "0.11019022568780638\n",
      "0.10388751012141031\n",
      "0.09610409527836612\n",
      "0.0898129807641542\n",
      "0.08741135806765683\n",
      "0.08981298076415418\n",
      "0.09610409527836612\n",
      "0.1038875101214103\n",
      "0.1037394401937455\n",
      "0.10980083338527342\n",
      "0.11211725972065968\n",
      "0.10980083338527344\n",
      "0.10373944019374551\n",
      "0.09625332531124935\n",
      "0.09020192994592564\n",
      "0.0878916826069563\n",
      "0.09020192994592564\n",
      "0.09625332531124935\n",
      "0.0963967972629666\n",
      "0.10359696802464868\n",
      "0.10942633669965926\n",
      "0.11165397445358244\n",
      "0.10942633669965929\n",
      "0.1035969680246487\n",
      "0.0963967972629666\n",
      "0.09057604474856108\n",
      "0.08835373207475017\n",
      "0.09057604474856108\n",
      "0.09093588873262054\n",
      "0.09653473908769426\n",
      "0.10345988781598153\n",
      "0.10906616360755053\n",
      "0.1112084469027978\n",
      "0.10906616360755056\n",
      "0.10345988781598155\n",
      "0.09653473908769426\n",
      "0.09093588873262054\n",
      "0.08879819460951235\n",
      "0.08922573343413401\n",
      "0.0912820043558171\n",
      "0.09666736892501562\n",
      "0.10332800052230973\n",
      "0.10871976435791837\n",
      "0.11077999024374836\n",
      "0.10871976435791839\n",
      "0.10332800052230973\n",
      "0.09666736892501562\n",
      "0.0912820043558171\n",
      "0.09161491372056865\n",
      "0.08963698761847064\n",
      "0.09161491372056865\n",
      "0.09679489562782519\n",
      "0.10320111374614119\n",
      "0.10838661056294052\n",
      "0.11036794506658237\n",
      "0.10838661056294052\n",
      "0.10320111374614119\n",
      "0.09679489562782519\n",
      "0.09691751924893115\n",
      "0.0919351193010845\n",
      "0.09003257283889024\n",
      "0.0919351193010845\n",
      "0.09691751924893115\n",
      "0.10307904161598952\n",
      "0.10806619433162479\n",
      "0.10997167816585401\n",
      "0.10806619433162477\n",
      "0.10307904161598952\n",
      "0.10296160465084722\n",
      "0.09703543149085232\n",
      "0.09224310464964974\n",
      "0.09041308213132909\n",
      "0.09224310464964974\n",
      "0.09703543149085232\n",
      "0.10296160465084722\n",
      "0.10775802744348419\n",
      "0.10959058139900818\n",
      "0.10775802744348417\n",
      "0.10746164055977288\n",
      "0.10284862961411143\n",
      "0.09714881612273155\n",
      "0.09253933508193794\n",
      "0.09077908663499322\n",
      "0.09253933508193793\n",
      "0.09714881612273155\n",
      "0.10284862961411143\n",
      "0.10746164055977289\n",
      "0.10922407060790339\n",
      "0.10887158459827731\n",
      "0.1071765824700198\n",
      "0.10273994935953959\n",
      "0.09725784936779018\n",
      "0.09282425834132284\n",
      "0.09113113632438218\n",
      "0.09282425834132282\n",
      "0.0972578493677902\n",
      "0.1027399493595396\n",
      "0.1071765824700198\n",
      "0.10690241937179754\n",
      "0.10853258417262582\n",
      "0.10690241937179754\n",
      "0.10263540267141268\n",
      "0.0973627002643184\n",
      "0.09309830524227551\n",
      "0.09146976072777031\n",
      "0.0930983052422755\n",
      "0.09736270026431841\n",
      "0.10263540267141269\n",
      "0.10253483410074175\n",
      "0.10663873418184189\n",
      "0.10820655121246017\n",
      "0.10663873418184189\n",
      "0.10253483410074174\n",
      "0.09746353100282355\n",
      "0.0933618902930293\n",
      "0.09179546963067137\n",
      "0.09336189029302927\n",
      "0.09746353100282355\n",
      "0.09756049724163596\n",
      "0.10243809379905995\n",
      "0.10638512587679372\n",
      "0.10789298780633652\n",
      "0.10638512587679372\n",
      "0.10243809379905994\n",
      "0.09756049724163596\n",
      "0.09361541229777293\n",
      "0.09210875376314295\n",
      "0.09361541229777291\n",
      "0.09385925493869622\n",
      "0.09765374840299207\n",
      "0.10234503735109093\n",
      "0.10614120886197463\n",
      "0.10759141542042797\n",
      "0.10614120886197465\n",
      "0.10234503735109092\n",
      "0.09765374840299205\n",
      "0.09385925493869623\n",
      "0.09241008547006896\n",
      "0.09269991936379443\n",
      "0.09409378733826308\n",
      "0.09774342795137236\n",
      "0.10225552560736943\n",
      "0.1059066123667316\n",
      "0.10730137410873732\n",
      "0.10590661236673161\n",
      "0.10225552560736942\n",
      "0.09774342795137236\n",
      "0.09409378733826308\n",
      "0.09431936460212714\n",
      "0.09297869295868816\n",
      "0.09431936460212714\n",
      "0.09782967365566116\n",
      "0.10216942451770594\n",
      "0.10568097986499597\n",
      "0.10702242176033616\n",
      "0.10568097986499596\n",
      "0.10216942451770593\n",
      "0.09782967365566114\n",
      "0.09791261783651224\n",
      "0.09453632834313666\n",
      "0.09324682728737596\n",
      "0.09453632834313666\n",
      "0.09791261783651224\n",
      "0.10208660496623048\n",
      "0.105463968519801\n",
      "0.10675413338126813\n",
      "0.10546396851980097\n",
      "0.10208660496623045\n",
      "0.10200694260861569\n",
      "0.0979923876001465\n",
      "0.09474500718689816\n",
      "0.0935047274985281\n",
      "0.09474500718689816\n",
      "0.0979923876001465\n",
      "0.10200694260861572\n",
      "0.10525524865059067\n",
      "0.1064961004089747\n",
      "0.10525524865059063\n",
      "0.10505450322223155\n",
      "0.10193031771196627\n",
      "0.09806910505966858\n",
      "0.094945717259386\n",
      "0.09375278343620211\n",
      "0.094945717259386\n",
      "0.0980691050596686\n",
      "0.10193031771196628\n",
      "0.10505450322223157\n",
      "0.10624793005729788\n",
      "0.10600924469028462\n",
      "0.10486142735471166\n",
      "0.10185661499776302\n",
      "0.0981428875448701\n",
      "0.09513876265709588\n",
      "0.09399137020083889\n",
      "0.0951387626570959\n",
      "0.0981428875448701\n",
      "0.10185661499776305\n",
      "0.10486142735471167\n",
      "0.1046757278525741\n",
      "0.10577968122317002\n",
      "0.1046757278525741\n",
      "0.10178572348816858\n",
      "0.09821384780138198\n",
      "0.09532443590024763\n",
      "0.0942208486920903\n",
      "0.09532443590024764\n",
      "0.098213847801382\n",
      "0.10178572348816861\n",
      "0.10171753635593049\n",
      "0.10449712275319314\n",
      "0.10555889054905085\n",
      "0.10449712275319314\n",
      "0.10171753635593048\n",
      "0.09828209417994722\n",
      "0.09550301836954533\n",
      "0.09444156613372177\n",
      "0.09550301836954536\n",
      "0.09828209417994722\n",
      "0.09834773081650539\n",
      "0.10165195077805844\n",
      "0.10432534089305268\n",
      "0.10534653698987934\n",
      "0.10432534089305268\n",
      "0.10165195077805844\n",
      "0.09834773081650537\n",
      "0.09567478072700318\n",
      "0.09465385658088649\n",
      "0.09567478072700321\n",
      "0.09583998332134176\n",
      "0.09841085780371048\n",
      "0.10158886779340257\n",
      "0.10416012149123594\n",
      "0.10514229777051401\n",
      "0.10416012149123592\n",
      "0.10158886779340257\n",
      "0.09841085780371048\n",
      "0.09583998332134173\n",
      "0.09485804141010984\n",
      "0.09505442979235623\n",
      "0.09599887657845545\n",
      "0.09847157135444282\n",
      "0.1015281921642167\n",
      "0.10400121374938043\n",
      "0.1049458625146584\n",
      "0.1040012137493804\n",
      "0.1015281921642167\n",
      "0.09847157135444283\n",
      "0.09599887657845542\n",
      "0.09615170137744426\n",
      "0.09524331914957608\n",
      "0.09615170137744428\n",
      "0.09852996395782147\n",
      "0.10146983224175568\n",
      "0.10384837646739187\n",
      "0.1047569327616028\n",
      "0.10384837646739184\n",
      "0.10146983224175568\n",
      "0.09852996395782147\n",
      "0.09858612452817717\n",
      "0.09629868941269516\n",
      "0.09542499559514972\n",
      "0.09629868941269518\n",
      "0.09858612452817718\n",
      "0.10141369983592588\n",
      "0.10370137767424935\n",
      "0.10457522150276062\n",
      "0.10370137767424932\n",
      "0.10141369983592588\n",
      "0.10135971008898335\n",
      "0.09864013854740385\n",
      "0.09644006354248882\n",
      "0.09559973435865882\n",
      "0.09644006354248884\n",
      "0.09864013854740386\n",
      "0.10135971008898335\n",
      "0.10355999427326815\n",
      "0.10440045273705836\n",
      "0.10355999427326812\n",
      "0.10342401170121866\n",
      "0.10130778135325388\n",
      "0.09869208820107031\n",
      "0.09657603812459734\n",
      "0.09576780019542483\n",
      "0.09657603812459734\n",
      "0.09869208820107032\n",
      "0.10130778135325388\n",
      "0.1034240117012187\n",
      "0.10423236104430034\n",
      "0.10407069117568402\n",
      "0.10329322360073037\n",
      "0.10125783507283201\n",
      "0.09874205250864139\n",
      "0.09670681933932739\n",
      "0.09592944778125935\n",
      "0.09670681933932739\n",
      "0.0987420525086414\n",
      "0.10125783507283202\n",
      "0.10329322360073039\n"
     ]
    },
    {
     "data": {
      "application/vnd.jupyter.widget-view+json": {
       "model_id": "9440d9bd93d44457986956afea79c8ac",
       "version_major": 2,
       "version_minor": 0
      },
      "text/plain": [
       "interactive(children=(IntSlider(value=1, description='step'), Output()), _dom_classes=('widget-interact',))"
      ]
     },
     "metadata": {},
     "output_type": "display_data"
    }
   ],
   "source": [
    "belief = np.array([1.0, 0, 0, 0, 0, 0, 0, 0, 0, 0])\n",
    "predict_beliefs = []\n",
    "    \n",
    "for i in range(100):\n",
    "    belief = predict_move(belief, 1, .1, .8, .1)\n",
    "    predict_beliefs.append(belief)\n",
    "\n",
    "#print('Final Belief:', belief)\n",
    "\n",
    "# make interactive plot\n",
    "def show_prior(step):\n",
    "    book_plots.bar_plot(predict_beliefs[step-1])\n",
    "    plt.title(f'Step {step}')\n",
    "\n",
    "interact(show_prior, step=IntSlider(value=1, max=len(predict_beliefs)));"
   ]
  },
  {
   "cell_type": "code",
   "execution_count": 22,
   "metadata": {},
   "outputs": [
    {
     "name": "stdout",
     "output_type": "stream",
     "text": [
      "Final Belief: [0.10407069 0.10329322 0.10125784 0.09874205 0.09670682 0.09592945\n",
      " 0.09670682 0.09874205 0.10125784 0.10329322]\n"
     ]
    }
   ],
   "source": [
    "print('Final Belief:', belief)"
   ]
  },
  {
   "cell_type": "markdown",
   "metadata": {},
   "source": [
    "After 100 iterations we have lost almost all information, even though we were 100% sure that we started in position 0. Feel free to play with the numbers to see the effect of differing number of updates. For example, after 100 updates a small amount of information is left, after 50 a lot is left, but by 200 iterations essentially all information is lost.  \n",
    "经过100次迭代后，即使我们100％确信我们从位置0开始，我们仍然丢失了几乎所有信息。请随意使用数字，以查看不同数量的更新的影响。例如，在进行100次更新后，会保留少量信息，而在进行50次更新后，会保留大量信息，但是经过200次迭代，基本上所有信息都会丢失。"
   ]
  },
  {
   "cell_type": "markdown",
   "metadata": {},
   "source": [
    "And, if you are viewing this online here is an animation of that output.  \n",
    "而且，如果您正在在线查看此内容，则此处是该输出的动画。\n",
    "<img src=\"animations/02_no_info.gif\">\n",
    "\n",
    "I will not generate these standalone animations through the rest of the book. Please see the preface for instructions to run this book on the web, for free, or install IPython on your computer. This will allow you to run all of the cells and see the animations. It's very important that you practice with this code, not just read passively.  \n",
    "在本书的其余部分中，我不会生成这些独立的动画。请参见前言，以获取有关在网上免费运行本书或在计算机上安装IPython的说明。这将允许您运行所有单元并查看动画。练习此代码非常重要，而不仅仅是被动阅读。"
   ]
  },
  {
   "cell_type": "markdown",
   "metadata": {},
   "source": [
    "## Generalizing with Convolution  卷积泛化\n",
    "\n",
    "We made the assumption that the movement error is at most one position. But it is possible for the error to be two, three, or more positions. As programmers we always want to generalize our code so that it works for all cases.  \n",
    "我们假设运动误差最多为一个位置。但是误差可能是两个，三个或更多位置。作为程序员，我们始终希望对代码进行通用化，以使其适用于所有情况。\n",
    "\n",
    "This is easily solved with [*convolution*](https://en.wikipedia.org/wiki/Convolution). Convolution modifies one function with another function. In our case we are modifying a probability distribution with the error function of the sensor. The implementation of `predict_move()` is a convolution, though we did not call it that. Formally, convolution is defined as    \n",
    "这可以通过[*convolution*](https://en.wikipedia.org/wiki/Convolution)轻松解决。<span class=\"burk\">卷积将一个函数修改为另一个函数(将信息映射到另外的空间)。</span>在我们的案例中，我们正在使用传感器的误差函数修改概率分布。 predict_move()的实现是一个卷积，尽管我们没有这样称呼。形式上，卷积定义为\n",
    "\n",
    "$$ (f \\ast g) (t) = \\int_0^t \\!f(\\tau) \\, g(t-\\tau) \\, \\mathrm{d}\\tau$$\n",
    "\n",
    "where $f\\ast g$ is the notation for convolving f by g. It does not mean multiply.  \n",
    "其中$f\\ast g$是将f卷积g的符号。这并不意味着乘法。\n",
    "\n",
    "Integrals are for continuous functions, but we are using discrete functions. We replace the integral with a summation, and the parenthesis with array brackets.  \n",
    "<span class=\"burk\">积分用于连续函数，但是我们使用离散函数。</span>我们用求和替换积分，并用数组括号替换括号。\n",
    "\n",
    "$$ (f \\ast g) [t] = \\sum\\limits_{\\tau=0}^t \\!f[\\tau] \\, g[t-\\tau]$$\n",
    "\n",
    "Comparison shows that `predict_move()` is computing this equation - it computes the sum of a series of multiplications.  \n",
    "比较表明，`predict_move()`正在计算此方程-它计算一系列乘法的和。\n",
    "\n",
    "[Khan Academy](https://www.khanacademy.org/math/differential-equations/laplace-transform/convolution-integral/v/introduction-to-the-convolution) [4] has a good introduction to convolution, and Wikipedia has some excellent animations of convolutions [5]. But the general idea is already clear. You slide an array called the *kernel* across another array, multiplying the neighbors of the current cell with the values of the second array. In our example above we used 0.8 for the probability of moving to the correct location, 0.1 for undershooting, and 0.1 for overshooting. We make a kernel of this with the array `[0.1, 0.8, 0.1]`. All we need to do is write a loop that goes over each element of our array, multiplying by the kernel, and summing the results. To emphasize that the belief is a probability distribution I have named it `pdf`.     \n",
    "\n",
    "[可汗学院](https://www.khanacademy.org/math/differential-equations/laplace-transform/convolution-integral/v/introduction-to-the-convolution)[4]很好地介绍了卷积，并且维基百科上有一些出色的卷积动画[5]。但是总体思路已经很清楚了。<span class=\"burk\">您在另一个数组上滑动一个称为*kernel*的数组，将当前单元格的邻居与第二个数组的值相乘</span>。在上面的示例中，我们使用0.8表示移动到正确位置的概率，使用0.1表示欠调，使用0.1表示过冲。我们用数组`[[0.1，0.8，0.1]`对此做一个内核。我们需要做的就是编写一个循环，遍历数组的每个元素，乘以内核，然后对结果求和。为了强调信念是概率分布，我将其命名为`pdf`。\n"
   ]
  },
  {
   "cell_type": "code",
   "execution_count": 23,
   "metadata": {},
   "outputs": [
    {
     "name": "stdout",
     "output_type": "stream",
     "text": [
      "index =  0  =  ( 0 ( 1 - 0 ) - 1 ) % 10\n",
      "0.1 += 1.0 * 0.1\n",
      "index =  9  =  ( 0 ( 1 - 1 ) - 1 ) % 10\n",
      "0.1 += 0.0 * 0.8\n",
      "index =  8  =  ( 0 ( 1 - 2 ) - 1 ) % 10\n",
      "0.1 += 0.0 * 0.1\n",
      "\n",
      "\n",
      "index =  1  =  ( 1 ( 1 - 0 ) - 1 ) % 10\n",
      "0.0 += 0.0 * 0.1\n",
      "index =  0  =  ( 1 ( 1 - 1 ) - 1 ) % 10\n",
      "0.8 += 1.0 * 0.8\n",
      "index =  9  =  ( 1 ( 1 - 2 ) - 1 ) % 10\n",
      "0.8 += 0.0 * 0.1\n",
      "\n",
      "\n",
      "index =  2  =  ( 2 ( 1 - 0 ) - 1 ) % 10\n",
      "0.0 += 0.0 * 0.1\n",
      "index =  1  =  ( 2 ( 1 - 1 ) - 1 ) % 10\n",
      "0.0 += 0.0 * 0.8\n",
      "index =  0  =  ( 2 ( 1 - 2 ) - 1 ) % 10\n",
      "0.1 += 1.0 * 0.1\n",
      "\n",
      "\n",
      "index =  3  =  ( 3 ( 1 - 0 ) - 1 ) % 10\n",
      "0.0 += 0.0 * 0.1\n",
      "index =  2  =  ( 3 ( 1 - 1 ) - 1 ) % 10\n",
      "0.0 += 0.0 * 0.8\n",
      "index =  1  =  ( 3 ( 1 - 2 ) - 1 ) % 10\n",
      "0.0 += 0.0 * 0.1\n",
      "\n",
      "\n",
      "index =  4  =  ( 4 ( 1 - 0 ) - 1 ) % 10\n",
      "0.0 += 0.0 * 0.1\n",
      "index =  3  =  ( 4 ( 1 - 1 ) - 1 ) % 10\n",
      "0.0 += 0.0 * 0.8\n",
      "index =  2  =  ( 4 ( 1 - 2 ) - 1 ) % 10\n",
      "0.0 += 0.0 * 0.1\n",
      "\n",
      "\n",
      "index =  5  =  ( 5 ( 1 - 0 ) - 1 ) % 10\n",
      "0.0 += 0.0 * 0.1\n",
      "index =  4  =  ( 5 ( 1 - 1 ) - 1 ) % 10\n",
      "0.0 += 0.0 * 0.8\n",
      "index =  3  =  ( 5 ( 1 - 2 ) - 1 ) % 10\n",
      "0.0 += 0.0 * 0.1\n",
      "\n",
      "\n",
      "index =  6  =  ( 6 ( 1 - 0 ) - 1 ) % 10\n",
      "0.0 += 0.0 * 0.1\n",
      "index =  5  =  ( 6 ( 1 - 1 ) - 1 ) % 10\n",
      "0.0 += 0.0 * 0.8\n",
      "index =  4  =  ( 6 ( 1 - 2 ) - 1 ) % 10\n",
      "0.0 += 0.0 * 0.1\n",
      "\n",
      "\n",
      "index =  7  =  ( 7 ( 1 - 0 ) - 1 ) % 10\n",
      "0.0 += 0.0 * 0.1\n",
      "index =  6  =  ( 7 ( 1 - 1 ) - 1 ) % 10\n",
      "0.0 += 0.0 * 0.8\n",
      "index =  5  =  ( 7 ( 1 - 2 ) - 1 ) % 10\n",
      "0.0 += 0.0 * 0.1\n",
      "\n",
      "\n",
      "index =  8  =  ( 8 ( 1 - 0 ) - 1 ) % 10\n",
      "0.0 += 0.0 * 0.1\n",
      "index =  7  =  ( 8 ( 1 - 1 ) - 1 ) % 10\n",
      "0.0 += 0.0 * 0.8\n",
      "index =  6  =  ( 8 ( 1 - 2 ) - 1 ) % 10\n",
      "0.0 += 0.0 * 0.1\n",
      "\n",
      "\n",
      "index =  9  =  ( 9 ( 1 - 0 ) - 1 ) % 10\n",
      "0.0 += 0.0 * 0.1\n",
      "index =  8  =  ( 9 ( 1 - 1 ) - 1 ) % 10\n",
      "0.0 += 0.0 * 0.8\n",
      "index =  7  =  ( 9 ( 1 - 2 ) - 1 ) % 10\n",
      "0.0 += 0.0 * 0.1\n",
      "\n",
      "\n"
     ]
    },
    {
     "data": {
      "image/png": "[encoded data removed]",
      "text/plain": [
       "<Figure size 640x480 with 2 Axes>"
      ]
     },
     "metadata": {},
     "output_type": "display_data"
    }
   ],
   "source": [
    "def predict_move_convolution(pdf, offset, kernel):\n",
    "    N = len(pdf)\n",
    "    kN = len(kernel)\n",
    "    width = int((kN - 1) / 2)\n",
    "\n",
    "    prior = np.zeros(N)\n",
    "    for i in range(N):\n",
    "        # kernel每移动一次，要\n",
    "        for k in range (kN):\n",
    "            index = (i + (width-k) - offset) % N\n",
    "            print(\"index = \", index, \" = \", \"(\", i, \"(\", width, \"-\", k, \")\", \"-\", offset, \")\", \"%\", N)\n",
    "            prior[i] += pdf[index] * kernel[k]\n",
    "            print(prior[i], \"+=\", pdf[index], \"*\", kernel[k])\n",
    "            if k == 2: \n",
    "                print(\"\\n\")\n",
    "    return prior\n",
    "\n",
    "pdf = [1., 0., 0., 0., 0., 0., 0., 0., 0., 0.]  # 先验分布，小狗确切位置\n",
    "prior = predict_move_convolution(pdf=pdf, offset=1, kernel=[.1, .8, .1])        # 状态转移\n",
    "book_plots.plot_belief_vs_prior(pdf, prior)"
   ]
  },
  {
   "cell_type": "markdown",
   "metadata": {},
   "source": [
    "This illustrates the algorithm, but it runs very slow. SciPy provides a convolution routine `convolve()` in the `ndimage.filters` module. We  need to shift the pdf by `offset` before convolution; `np.roll()` does that. The move and predict algorithm can be implemented with one line:\n",
    "这说明了该算法，但是运行速度非常慢。 SciPy在`ndimage.filters`模块中提供了一个卷积例程`convolve()`。卷积之前，我们需要将pdf偏移量`偏移`。`np.roll()`做到了。移动和预测算法可以用一行实现：\n",
    "\n",
    "```python\n",
    "convolve(np.roll(pdf, offset), kernel, mode='wrap')\n",
    "```\n",
    "\n",
    "FilterPy implements this with `discrete_bayes`' `predict()` function.  \n",
    "FilterPy通过`discrete_bayes`'`predict（）`函数来实现。"
   ]
  },
  {
   "cell_type": "code",
   "execution_count": 24,
   "metadata": {},
   "outputs": [
    {
     "data": {
      "image/png": "[encoded data removed]",
      "text/plain": [
       "<Figure size 640x480 with 2 Axes>"
      ]
     },
     "metadata": {},
     "output_type": "display_data"
    }
   ],
   "source": [
    "from filterpy.discrete_bayes import predict\n",
    "\n",
    "belief = [.05, .05, .05, .05, .55, .05, .05, .05, .05, .05]\n",
    "prior = predict(belief, offset=1, kernel=[.1, .8, .1])\n",
    "book_plots.plot_belief_vs_prior(belief, prior, ylim=(0,0.6))"
   ]
  },
  {
   "cell_type": "markdown",
   "metadata": {},
   "source": [
    "All of the elements are unchanged except the middle ones. The values in position 4 and 6 should be   \n",
    "除中间元素外，所有元素均不变。位置4和6的值应为\n",
    "$$(0.1 \\times 0.05)+ (0.8 \\times 0.05) + (0.1 \\times 0.55) = 0.1$$\n",
    "\n",
    "Position 5 should be  \n",
    "位置5应该是 \n",
    "\n",
    "$$(0.1 \\times 0.05) + (0.8 \\times 0.55)+ (0.1 \\times 0.05) = 0.45$$\n",
    "\n",
    "Let's ensure that it shifts the positions correctly for movements greater than one and for asymmetric kernels.  \n",
    "让我们确保它为大于1的运动和非对称内核正确移动位置。"
   ]
  },
  {
   "cell_type": "code",
   "execution_count": 25,
   "metadata": {},
   "outputs": [
    {
     "data": {
      "image/png": "[encoded data removed]",
      "text/plain": [
       "<Figure size 640x480 with 2 Axes>"
      ]
     },
     "metadata": {},
     "output_type": "display_data"
    }
   ],
   "source": [
    "prior = predict(belief, offset=3, kernel=[.05, .05, .6, .2, .1])\n",
    "book_plots.plot_belief_vs_prior(belief, prior, ylim=(0,0.6))"
   ]
  },
  {
   "cell_type": "markdown",
   "metadata": {},
   "source": [
    "The position was correctly shifted by 3 positions and we give more weight to the likelihood of an overshoot vs an undershoot, so this looks correct.  \n",
    "该位置已正确移动了3个位置，我们将更多的权重考虑为过冲与下冲，因此这看起来是正确的。\n",
    "\n",
    "Make sure you understand what we are doing. We are making a prediction of where the dog is moving, and convolving the probabilities to get the prior.  \n",
    "确保您了解我们在做什么。我们正在对狗的移动位置进行预测，并计算出获得先验概率的可能性。\n",
    "\n",
    "If we weren't using probabilities we would use this equation that I gave earlier:  \n",
    "如果我们不使用概率，则可以使用我之前给出的公式：\n",
    "\n",
    "$$ \\bar x_{k+1} = x_k + f_{\\mathbf x}(\\bullet)$$\n",
    "\n",
    "The prior, our prediction of where the dog will be, is the amount the dog moved plus his current position. The dog was at 10, he moved 5 meters, so he is now at 15 m. It couldn't be simpler. But we are using probabilities to model this, so our equation is:  \n",
    "我们先前对狗的位置的预测是狗的移动量加上其当前位置。那只狗在10岁时，他移动了5米，所以他现在在15 m处。这再简单不过了。但是我们使用概率对此进行建模，因此我们的等式为：\n",
    "\n",
    "$$ \\bar{ \\mathbf x}_{k+1} = \\mathbf x_k \\ast f_{\\mathbf x}(\\bullet)$$\n",
    "\n",
    "We are *convolving* the current probabilistic position estimate with a probabilistic estimate of how much we think the dog moved. It's the same concept, but the math is slightly different. $\\mathbf x$ is bold to denote that it is an array of numbers.   \n",
    "<span class=\"burk\">我们正在将当前的概率位置估计与我们认为狗移动了多少的概率估计进行`卷积`。这是相同的概念，但是数学上略有不同。 $\\mathbf x$以粗体表示它是一个数字数组。</span>"
   ]
  },
  {
   "cell_type": "markdown",
   "metadata": {},
   "source": [
    "## Integrating Measurements and Movement Updates  整合测量和运动更新\n",
    "\n",
    "The problem of losing information during a prediction may make it seem as if our system would quickly devolve into having no knowledge. However, each prediction is followed by an update where we incorporate the measurement into the estimate. The update improves our knowledge. The output of the update step is fed into the next prediction. The prediction degrades our certainty. That is passed into another update, where certainty is again increased.  \n",
    "在预测过程中丢失信息的问题可能使我们的系统似乎很快就陷入了毫无知识的状态。但是，每个预测之后都会进行更新，我们会将度量合并到估计中。此更新提高了我们的知识。更新步骤的输出被馈送到下一个预测中。该预测降低了我们的确定性。这被传递到另一个更新中，在此再次增加确定性。\n",
    "\n",
    "Let's think about this intuitively. Consider a simple case - you are tracking a dog while he sits still. During each prediction you predict he doesn't move. Your filter quickly *converges* on an accurate estimate of his position. Then the microwave in the kitchen turns on, and he goes streaking off. You don't know this, so at the next prediction you predict he is in the same spot. But the measurements tell a different story. As you incorporate the measurements your belief will be smeared along the hallway, leading towards the kitchen. On every epoch (cycle) your belief that he is sitting still will get smaller, and your belief that he is inbound towards the kitchen at a startling rate of speed increases.  \n",
    "让我们直观地考虑一下。考虑一个简单的案例-您正在跟踪狗静止不动的情况。在每次预测期间，您都预测他不会移动。您的过滤器可以快速*收敛*以准确估算其位置。然后厨房里的微波炉打开，他开始裸奔。您不知道这一点，因此在下一次预测时，您会预测他在同一位置。但是测量结果却不同。当您合并这些测量值时，您的信念将沿着走廊被抹去，并通向厨房。在每个时期（周期），您对他静止不动的信念都会变小，并且您对他以惊人的速度进入厨房的信念会越来越大。\n",
    "\n",
    "That is what intuition tells us. What does the math tell us?  \n",
    "这就是直觉告诉我们的。数学告诉我们什么？\n",
    "\n",
    "We have already programmed the update and predict steps. All we need to do is feed the result of one into the other, and we will have implemented a dog tracker!!! Let's see how it performs. We will input measurements as if the dog started at position 0 and moved right one position each epoch. As in a real world application, we will start with no knowledge of his position by assigning equal probability to all positions.   \n",
    "我们已经编写了更新程序并预测了步骤。我们要做的就是将一个结果反馈给另一个，我们将实现一个狗跟踪器！！！让我们看看它的表现。我们将输入测量值，就像狗从位置0开始并在每个时期向右移动一个位置一样。就像在现实世界中的应用程序一样，我们将通过为所有职位分配相等的概率而从不了解他的职位开始。"
   ]
  },
  {
   "cell_type": "code",
   "execution_count": 30,
   "metadata": {},
   "outputs": [
    {
     "name": "stdout",
     "output_type": "stream",
     "text": [
      "likelihood =  [3. 3. 1. 1. 1. 1. 1. 1. 3. 1.]\n",
      "hallway =  [1 1 0 0 0 0 0 0 1 0]\n",
      "prior =  [0.1 0.1 0.1 0.1 0.1 0.1 0.1 0.1 0.1 0.1]\n",
      "posterior =  [0.1875 0.1875 0.0625 0.0625 0.0625 0.0625 0.0625 0.0625 0.1875 0.0625]\n"
     ]
    },
    {
     "data": {
      "image/png": "[encoded data removed]",
      "text/plain": [
       "<Figure size 640x480 with 2 Axes>"
      ]
     },
     "metadata": {},
     "output_type": "display_data"
    }
   ],
   "source": [
    "from filterpy.discrete_bayes import update\n",
    "\n",
    "# 生成先验分布 [0.1875 0.1875 0.0625 0.0625 0.0625 0.0625 0.0625 0.0625 0.1875 0.0625]\n",
    "hallway = np.array([1, 1, 0, 0, 0, 0, 0, 0, 1, 0])\n",
    "prior = np.array([.1] * 10)\n",
    "likelihood = lh_hallway(hallway, z=1, z_prob=.75)  # 检查门\n",
    "posterior = update(likelihood, prior)              # 归一化先验分布\n",
    "book_plots.plot_prior_vs_posterior(prior, posterior, ylim=(0,.5))\n",
    "print(\"hallway = \", hallway)\n",
    "print(\"prior = \", prior)\n",
    "print(\"posterior = \", posterior)"
   ]
  },
  {
   "cell_type": "markdown",
   "metadata": {},
   "source": [
    "After the first update we have assigned a high probability to each door position, and a low probability to each wall position.   \n",
    "第一次更新后，我们为每个门位置分配了较高的概率，而为每个墙壁位置分配了较低的概率。"
   ]
  },
  {
   "cell_type": "code",
   "execution_count": 37,
   "metadata": {},
   "outputs": [
    {
     "name": "stdout",
     "output_type": "stream",
     "text": [
      "hallway =  [1 1 0 0 0 0 0 0 1 0]\n",
      "prior =  [0.02430184 0.02932425 0.02888154 0.12982852 0.31543723 0.24285171\n",
      " 0.12362164 0.05738814 0.03423549 0.01412964]\n",
      "posterior =  [0.03130157 0.01763345 0.1164462  0.34908209 0.24526939 0.11727989\n",
      " 0.05270797 0.03493771 0.01014527 0.02519645]\n"
     ]
    },
    {
     "data": {
      "image/png": "[encoded data removed]",
      "text/plain": [
       "<Figure size 640x480 with 2 Axes>"
      ]
     },
     "metadata": {},
     "output_type": "display_data"
    }
   ],
   "source": [
    "# 使用传感器测量小狗的位置，测量有误差，测量值呈现高斯分布。\n",
    "# 融合模型预测和测量\n",
    "# 32% 提升到了 35%\n",
    "kernel = (.1, .8, .1)\n",
    "prior = predict(posterior, 1, kernel)    # 通过卷积融合测量信息\n",
    "book_plots.plot_prior_vs_posterior(prior, posterior, True, ylim=(0,.5))\n",
    "print(\"hallway = \", hallway)\n",
    "print(\"prior = \", prior)\n",
    "print(\"posterior = \", posterior)"
   ]
  },
  {
   "cell_type": "markdown",
   "metadata": {},
   "source": [
    "The predict step shifted these probabilities to the right, smearing them about a bit. Now let's look at what happens at the next sense.  \n",
    "<span class=\"burk\">预测步骤将这些概率向右移动，将它们涂抹了一些。现在，让我们看看下一个意义。</span>"
   ]
  },
  {
   "cell_type": "code",
   "execution_count": 40,
   "metadata": {},
   "outputs": [
    {
     "name": "stdout",
     "output_type": "stream",
     "text": [
      "likelihood =  [3. 3. 1. 1. 1. 1. 1. 1. 3. 1.]\n",
      "hallway =  [1 1 0 0 0 0 0 0 1 0]\n",
      "prior =  [0.02455077 0.0582915  0.06851689 0.03817681 0.11762522 0.24633164\n",
      " 0.20258787 0.10965277 0.05829886 0.07596768]\n",
      "posterior =  [0.05743845 0.13637753 0.05343355 0.02977255 0.09173114 0.19210407\n",
      " 0.15799008 0.08551375 0.13639476 0.05924411]\n"
     ]
    },
    {
     "data": {
      "image/png": "[encoded data removed]",
      "text/plain": [
       "<Figure size 640x480 with 2 Axes>"
      ]
     },
     "metadata": {},
     "output_type": "display_data"
    }
   ],
   "source": [
    "# 继续测量门\n",
    "# 更新后验分布为下一步提供先验分布\n",
    "# 27% 提升到了 30%\n",
    "likelihood = lh_hallway(hallway, z=1, z_prob=.75)  # 检查门\n",
    "posterior = update(likelihood, prior)\n",
    "book_plots.plot_prior_vs_posterior(prior, posterior, ylim=(0,.5))\n",
    "print(\"hallway = \", hallway)\n",
    "print(\"prior = \", prior)\n",
    "print(\"posterior = \", posterior)"
   ]
  },
  {
   "cell_type": "markdown",
   "metadata": {},
   "source": [
    "Notice the tall bar at position 1. This corresponds with the (correct) case of starting at position 0, sensing a door, shifting 1 to the right, and sensing another door. No other positions make this set of observations as likely. Now we will add an update and then sense the wall.  \n",
    "请注意位置1处的高条。这对应于（正确）情况，从位置0开始，检测到一扇门，向右移动1，然后检测到另一扇门。没有其他立场使这组观察成为可能。现在，我们将添加更新，然后感知墙壁。"
   ]
  },
  {
   "cell_type": "code",
   "execution_count": 41,
   "metadata": {},
   "outputs": [
    {
     "name": "stdout",
     "output_type": "stream",
     "text": [
      "likelihood =  [1. 1. 3. 3. 3. 3. 3. 3. 1. 3.]\n",
      "hallway =  [1 1 0 0 0 0 0 0 1 0]\n",
      "prior =  [0.06677861 0.06551293 0.12018923 0.05936185 0.03833451 0.09557258\n",
      " 0.17865537 0.15415384 0.09784949 0.1235916 ]\n",
      "posterior =  [0.02629371 0.02579536 0.14197155 0.07012021 0.045282   0.11289353\n",
      " 0.21103372 0.18209169 0.0385277  0.14599054]\n"
     ]
    },
    {
     "data": {
      "image/png": "[encoded data removed]",
      "text/plain": [
       "<Figure size 640x480 with 2 Axes>"
      ]
     },
     "metadata": {},
     "output_type": "display_data"
    }
   ],
   "source": [
    "# 通过卷积继续更新状态\n",
    "# 检查门\n",
    "# 31% -> 35%\n",
    "prior = predict(posterior, 1, kernel)\n",
    "likelihood = lh_hallway(hallway, z=0, z_prob=.75)\n",
    "posterior = update(likelihood, prior)\n",
    "book_plots.plot_prior_vs_posterior(prior, posterior, ylim=(0,.5))\n",
    "print(\"hallway = \", hallway)\n",
    "print(\"prior = \", prior)\n",
    "print(\"posterior = \", posterior)"
   ]
  },
  {
   "cell_type": "markdown",
   "metadata": {},
   "source": [
    "This is exciting! We have a very prominent bar at position 2 with a value of around 35%. It is over twice the value of any other bar in the plot, and is about 4% larger than our last plot, where the tallest bar was around 31%. Let's see one more cycle.  \n",
    "这真让人兴奋！我们在位置2有一个非常突出的条，其值约为35％。它是该图中任何其他柱形图的两倍以上，并且比我们上一个最高的柱形图大约31％的上一个图块大约4％。让我们再看一个周期。"
   ]
  },
  {
   "cell_type": "code",
   "execution_count": 42,
   "metadata": {},
   "outputs": [
    {
     "name": "stdout",
     "output_type": "stream",
     "text": [
      "likelihood =  [1. 1. 3. 3. 3. 3. 3. 3. 1. 3.]\n"
     ]
    },
    {
     "data": {
      "image/png": "[encoded data removed]",
      "text/plain": [
       "<Figure size 640x480 with 2 Axes>"
      ]
     },
     "metadata": {},
     "output_type": "display_data"
    }
   ],
   "source": [
    "prior = predict(posterior, 1, kernel)\n",
    "likelihood = lh_hallway(hallway, z=0, z_prob=.75)\n",
    "posterior = update(likelihood, prior)\n",
    "book_plots.plot_prior_vs_posterior(prior, posterior, ylim=(0,.5))"
   ]
  },
  {
   "cell_type": "markdown",
   "metadata": {},
   "source": [
    "I ignored an important issue. Earlier I assumed that we had a motion sensor for the predict step; then, when talking about the dog and the microwave I assumed that you had no knowledge that he suddenly began running. I mentioned that your belief that the dog is running would increase over time, but I did not provide any code for this. In short, how do we detect and/or estimate changes in the process model if we aren't directly measuring it?  \n",
    "我忽略了一个重要问题。之前，我假设我们为预测步骤使用了运动传感器。然后，当谈论狗和微波炉时，我以为您不知道他突然开始奔跑。我提到过您对狗正在奔跑的信念会随着时间的流逝而增加，但是我没有为此提供任何代码。简而言之，如果我们不直接测量过程模型，我们如何检测和/或估计过程模型的变化？\n",
    "\n",
    "For now I want to ignore this problem. In later chapters we will learn the mathematics behind this estimation; for now it is a large enough task just to learn this algorithm. It is profoundly important to solve this problem, but we haven't yet built enough of the mathematical apparatus that is required, and so for the remainder of the chapter we will ignore the problem by assuming we have a sensor that senses movement.  \n",
    "现在，我想忽略这个问题。在后面的章节中，我们将学习该估计背后的数学；目前，仅学习此算法已是一项足够大的任务。解决这个问题非常重要，但是我们还没有建立足够的数学工具，因此在本章的其余部分中，我们将假定我们有一个感应运动的传感器而忽略该问题。"
   ]
  },
  {
   "cell_type": "markdown",
   "metadata": {},
   "source": [
    "## The Discrete Bayes Algorithm 离散贝叶斯算法\n",
    "\n",
    "This chart illustrates the algorithm: \n",
    "该图说明了该算法："
   ]
  },
  {
   "cell_type": "code",
   "execution_count": 28,
   "metadata": {},
   "outputs": [
    {
     "data": {
      "image/png": "[encoded data removed]",
      "text/plain": [
       "<Figure size 400x400 with 1 Axes>"
      ]
     },
     "metadata": {},
     "output_type": "display_data"
    }
   ],
   "source": [
    "book_plots.predict_update_chart()"
   ]
  },
  {
   "cell_type": "markdown",
   "metadata": {},
   "source": [
    "This filter is a form of the g-h filter. Here we are using the percentages for the errors to implicitly compute the $g$ and $h$ parameters. We could express the discrete Bayes algorithm as a g-h filter, but that would obscure the logic of this filter.\n",
    "\n",
    "The filter equations are:\n",
    "\n",
    "$$\\begin{aligned} \\bar {\\mathbf x} &= \\mathbf x \\ast f_{\\mathbf x}(\\bullet)\\, \\, &\\text{Predict Step} \\\\\n",
    "\\mathbf x &= \\|\\mathcal L \\cdot \\bar{\\mathbf x}\\|\\, \\, &\\text{Update Step}\\end{aligned}$$\n",
    "\n",
    "$\\mathcal L$ is the usual way to write the likelihood function, so I use that. The $\\|\\|$ notation denotes taking the norm. We need to normalize the product of the likelihood with the prior to ensure $x$ is a probability distribution that sums to one.\n",
    "\n",
    "We can express this in pseudocode.\n",
    "\n",
    "**Initialization**\n",
    "\n",
    "    1. Initialize our belief in the state\n",
    "    \n",
    "**Predict**\n",
    "\n",
    "    1. Based on the system behavior, predict state for the next time step\n",
    "    2. Adjust belief to account for the uncertainty in prediction\n",
    "    \n",
    "**Update**\n",
    "\n",
    "    1. Get a measurement and associated belief about its accuracy\n",
    "    2. Compute how likely it is the measurement matches each state\n",
    "    3. Update state belief with this likelihood\n",
    "\n",
    "When we cover the Kalman filter we will use this exact same algorithm; only the details of the computation will differ.\n",
    "\n",
    "Algorithms in this form are sometimes called *predictor correctors*. We make a prediction, then correct them.\n",
    "\n",
    "Let's animate this. First Let's write functions to perform the filtering and to plot the results at any step. I've plotted the position of the doorways in black. Prior are drawn in orange, and the posterior in blue. I draw a thick vertical line to indicate where Simon really is. This is not an output of the filter - we know where Simon is only because we are simulating his movement."
   ]
  },
  {
   "cell_type": "code",
   "execution_count": 29,
   "metadata": {
    "scrolled": true
   },
   "outputs": [],
   "source": [
    "def discrete_bayes_sim(prior, kernel, measurements, z_prob, hallway):\n",
    "    posterior = np.array([.1]*10)\n",
    "    priors, posteriors = [], []\n",
    "    for i, z in enumerate(measurements):\n",
    "        prior = predict(posterior, 1, kernel)\n",
    "        priors.append(prior)\n",
    "\n",
    "        likelihood = lh_hallway(hallway, z, z_prob)\n",
    "        posterior = update(likelihood, prior)\n",
    "        posteriors.append(posterior)\n",
    "    return priors, posteriors\n",
    "\n",
    "\n",
    "def plot_posterior(hallway, posteriors, i):\n",
    "    plt.title('Posterior')\n",
    "    book_plots.bar_plot(hallway, c='k')\n",
    "    book_plots.bar_plot(posteriors[i], ylim=(0, 1.0))\n",
    "    plt.axvline(i % len(hallway), lw=5)    \n",
    "    \n",
    "def plot_prior(hallway, priors, i):\n",
    "    plt.title('Prior')\n",
    "    book_plots.bar_plot(hallway, c='k')\n",
    "    book_plots.bar_plot(priors[i], ylim=(0, 1.0), c='#ff8015')\n",
    "    plt.axvline(i % len(hallway), lw=5)    \n",
    "\n",
    "def animate_discrete_bayes(hallway, priors, posteriors):\n",
    "    def animate(step):\n",
    "        step -= 1\n",
    "        i = step // 2    \n",
    "        if step % 2 == 0:\n",
    "            plot_prior(hallway, priors, i)\n",
    "        else:\n",
    "            plot_posterior(hallway, posteriors, i)\n",
    "    \n",
    "    return animate"
   ]
  },
  {
   "cell_type": "markdown",
   "metadata": {},
   "source": [
    "Let's run the filter and animate it."
   ]
  },
  {
   "cell_type": "code",
   "execution_count": 30,
   "metadata": {},
   "outputs": [
    {
     "data": {
      "application/vnd.jupyter.widget-view+json": {
       "model_id": "5e52dc4ac04b4244ad4357a4fd837902",
       "version_major": 2,
       "version_minor": 0
      },
      "text/plain": [
       "interactive(children=(IntSlider(value=1, description='step'), Output()), _dom_classes=('widget-interact',))"
      ]
     },
     "metadata": {},
     "output_type": "display_data"
    }
   ],
   "source": [
    "# change these numbers to alter the simulation\n",
    "kernel = (.1, .8, .1)\n",
    "z_prob = 1.0\n",
    "hallway = np.array([1, 1, 0, 0, 0, 0, 0, 0, 1, 0])\n",
    "\n",
    "# measurements with no noise\n",
    "zs = [hallway[i % len(hallway)] for i in range(50)]\n",
    "\n",
    "priors, posteriors = discrete_bayes_sim(prior, kernel, zs, z_prob, hallway)\n",
    "interact(animate_discrete_bayes(hallway, priors, posteriors), step=IntSlider(value=1, max=len(zs)*2));"
   ]
  },
  {
   "cell_type": "markdown",
   "metadata": {},
   "source": [
    "Now we can see the results. You can see how the prior shifts the position and reduces certainty, and the posterior stays in the same position and increases certainty as it incorporates the information from the measurement. I've made the measurement perfect with the line `z_prob = 1.0`; we will explore the effect of imperfect measurements in the next section. Finally, \n",
    "\n",
    "Another thing to note is how accurate our estimate becomes when we are in front of a door, and how it degrades when in the middle of the hallway. This should make intuitive sense. There are only a few doorways, so when the sensor tells us we are in front of a door this boosts our certainty in our position. A long stretch of no doors reduces our certainty."
   ]
  },
  {
   "cell_type": "markdown",
   "metadata": {},
   "source": [
    "## The Effect of Bad Sensor Data\n",
    "\n",
    "You may be suspicious of the results above because I always passed correct sensor data into the functions. However, we are claiming that this code implements a *filter* - it should filter out bad sensor measurements. Does it do that?\n",
    "\n",
    "To make this easy to program and visualize I will change the layout of the hallway to mostly alternating doors and hallways, and run the algorithm on 6 correct measurements:"
   ]
  },
  {
   "cell_type": "code",
   "execution_count": 31,
   "metadata": {},
   "outputs": [
    {
     "data": {
      "application/vnd.jupyter.widget-view+json": {
       "model_id": "562f60dcb79f4651953d34fd40c1cab7",
       "version_major": 2,
       "version_minor": 0
      },
      "text/plain": [
       "interactive(children=(IntSlider(value=12, description='step', max=12), Output()), _dom_classes=('widget-intera…"
      ]
     },
     "metadata": {},
     "output_type": "display_data"
    }
   ],
   "source": [
    "hallway = np.array([1, 0, 1, 0, 0]*2)\n",
    "kernel = (.1, .8, .1)\n",
    "prior = np.array([.1] * 10)\n",
    "zs = [1, 0, 1, 0, 0, 1]\n",
    "z_prob = 0.75\n",
    "priors, posteriors = discrete_bayes_sim(prior, kernel, zs, z_prob, hallway)\n",
    "interact(animate_discrete_bayes(hallway, priors, posteriors), step=IntSlider(value=12, max=len(zs)*2));"
   ]
  },
  {
   "cell_type": "markdown",
   "metadata": {},
   "source": [
    "We have identified the likely cases of having started at position 0 or 5, because we saw this sequence of doors and walls: 1,0,1,0,0. Now I inject a bad measurement. The next measurement should be 0, but instead we get a 1:"
   ]
  },
  {
   "cell_type": "code",
   "execution_count": 32,
   "metadata": {},
   "outputs": [
    {
     "data": {
      "image/png": "[encoded data removed]",
      "text/plain": [
       "<Figure size 900x400 with 1 Axes>"
      ]
     },
     "metadata": {},
     "output_type": "display_data"
    }
   ],
   "source": [
    "measurements = [1, 0, 1, 0, 0, 1, 1]\n",
    "priors, posteriors = discrete_bayes_sim(prior, kernel, measurements, z_prob, hallway);\n",
    "plot_posterior(hallway, posteriors, 6)"
   ]
  },
  {
   "cell_type": "markdown",
   "metadata": {},
   "source": [
    "That one bad measurement has significantly eroded our knowledge. Now let's continue with a series of correct measurements."
   ]
  },
  {
   "cell_type": "code",
   "execution_count": 33,
   "metadata": {},
   "outputs": [
    {
     "data": {
      "image/png": "[encoded data removed]",
      "text/plain": [
       "<Figure size 800x550 with 10 Axes>"
      ]
     },
     "metadata": {},
     "output_type": "display_data"
    }
   ],
   "source": [
    "with figsize(y=5.5):\n",
    "    measurements = [1, 0, 1, 0, 0, 1, 1, 1, 0, 0]\n",
    "    for i, m in enumerate(measurements):\n",
    "        likelihood = lh_hallway(hallway, z=m, z_prob=.75)\n",
    "        posterior = update(likelihood, prior)\n",
    "        prior = predict(posterior, 1, kernel)\n",
    "        plt.subplot(5, 2, i+1)\n",
    "        book_plots.bar_plot(posterior, ylim=(0, .4), title=f'step {i+1}')\n",
    "    plt.tight_layout()"
   ]
  },
  {
   "cell_type": "markdown",
   "metadata": {},
   "source": [
    "We quickly filtered out the bad sensor reading and converged on the most likely positions for our dog."
   ]
  },
  {
   "cell_type": "markdown",
   "metadata": {},
   "source": [
    "## Drawbacks and Limitations\n",
    "\n",
    "Do not be mislead by the simplicity of the examples I chose. This is a robust and complete filter, and you may use the code in real world solutions. If you need a multimodal, discrete filter, this filter works.\n",
    "\n",
    "With that said, this filter it is not used often because it has several limitations. Getting around those limitations is the motivation behind the chapters in the rest of this book.\n",
    "\n",
    "The first problem is scaling. Our dog tracking problem used only one variable, $pos$, to denote the dog's position. Most interesting problems will want to track several things in a large space. Realistically, at a minimum we would want to track our dog's $(x,y)$ coordinate, and probably his velocity $(\\dot{x},\\dot{y})$ as well. We have not covered the multidimensional case, but instead of an array we use a multidimensional grid to store the probabilities at each discrete location. Each `update()` and `predict()` step requires updating all values in the grid, so a simple four variable problem would require $O(n^4)$ running time *per time step*. Realistic filters can have 10 or more variables to track, leading to exorbitant computation requirements.\n",
    "\n",
    "The second problem is that the filter is discrete, but we live in a continuous world. The histogram requires that you model the output of your filter as a set of discrete points. A 100 meter hallway requires 10,000 positions to model the hallway to 1cm accuracy. So each update and predict operation would entail performing calculations for 10,000 different probabilities. It gets exponentially worse as we add dimensions. A 100x100 m$^2$ courtyard requires 100,000,000 bins to get 1cm accuracy.\n",
    "\n",
    "A third problem is that the filter is multimodal. In the last example we ended up with strong beliefs that the dog was in position 4 or 9. This is not always a problem. Particle filters, which we will study later, are multimodal and are often used because of this property. But imagine if the GPS in your car reported to you that it is 40% sure that you are on D street, and 30% sure you are on Willow Avenue. \n",
    "\n",
    "A forth problem is that it requires a measurement of the change in state. We need a motion sensor to detect how much the dog moves. There are ways to work around this problem, but it would complicate the exposition of this chapter, so, given the aforementioned problems, I will not discuss it further.\n",
    "\n",
    "With that said, if I had a small problem that this technique could handle I would choose to use it; it is trivial to implement, debug, and understand, all virtues."
   ]
  },
  {
   "cell_type": "markdown",
   "metadata": {},
   "source": [
    "## Tracking and Control\n",
    "\n",
    "We have been passively tracking an autonomously moving object. But consider this very similar problem. I am automating a warehouse and want to use robots to collect all of the items for a customer's order. Perhaps the easiest way to do this is to have the robots travel on a train track. I want to be able to send the robot a destination and have it go there. But train tracks and robot motors are imperfect. Wheel slippage and imperfect motors means that the robot is unlikely to travel to exactly the position you command. There is more than one robot, and we need to know where they all are so we do not cause them to crash.\n",
    "\n",
    "So we add sensors. Perhaps we mount magnets on the track every few feet, and use a Hall sensor to count how many magnets are passed. If we count 10 magnets then the robot should be at the 10th magnet. Of course it is possible to either miss a magnet or to count it twice, so we have to accommodate some degree of error. We can use the code from the previous section to track our robot since magnet counting is very similar to doorway sensing.\n",
    "\n",
    "But we are not done. We've learned to never throw information away. If you have information you should use it to improve your estimate. What information are we leaving out? We know what control inputs we are feeding to the wheels of the robot at each moment in time. For example, let's say that once a second we send a movement command to the robot - move left 1 unit, move right 1 unit, or stand still.  If I send the command 'move left 1 unit' I expect that in one second from now the robot will be 1 unit to the left of where it is now. This is a simplification because I am not taking acceleration into account, but I am not trying to teach control theory. Wheels and motors are imperfect. The robot might end up 0.9 units away, or maybe 1.2 units. \n",
    "\n",
    "Now the entire solution is clear. We assumed that the dog kept moving in whatever direction he was previously moving. That is a dubious assumption for my dog! Robots are far more predictable. Instead of making a dubious prediction based on assumption of behavior we will feed in the command that we sent to the robot! In other words, when we call `predict()` we will pass in the commanded movement that we gave the robot along with a kernel that describes the likelihood  of that movement."
   ]
  },
  {
   "cell_type": "markdown",
   "metadata": {},
   "source": [
    "### Simulating the Train Behavior\n",
    "\n",
    "We need to simulate an imperfect train. When we command it to move it will sometimes make a small mistake, and its sensor will sometimes return the incorrect value."
   ]
  },
  {
   "cell_type": "code",
   "execution_count": 34,
   "metadata": {},
   "outputs": [],
   "source": [
    "class Train(object):\n",
    "\n",
    "    def __init__(self, track_len, kernel=[1.], sensor_accuracy=.9):\n",
    "        self.track_len = track_len\n",
    "        self.pos = 0\n",
    "        self.kernel = kernel\n",
    "        self.sensor_accuracy = sensor_accuracy\n",
    "\n",
    "    def move(self, distance=1):\n",
    "        \"\"\" move in the specified direction\n",
    "        with some small chance of error\"\"\"\n",
    "\n",
    "        self.pos += distance\n",
    "        # insert random movement error according to kernel\n",
    "        r = random.random()\n",
    "        s = 0\n",
    "        offset = -(len(self.kernel) - 1) / 2\n",
    "        for k in self.kernel:\n",
    "            s += k\n",
    "            if r <= s:\n",
    "                break\n",
    "            offset += 1\n",
    "        self.pos = int((self.pos + offset) % self.track_len)\n",
    "        return self.pos\n",
    "\n",
    "    def sense(self):\n",
    "        pos = self.pos\n",
    "         # insert random sensor error\n",
    "        if random.random() > self.sensor_accuracy:\n",
    "            if random.random() > 0.5:\n",
    "                pos += 1\n",
    "            else:\n",
    "                pos -= 1\n",
    "        return pos"
   ]
  },
  {
   "cell_type": "markdown",
   "metadata": {},
   "source": [
    "With that we are ready to write the filter. We will put it in a function so that we can run it with different assumptions. I will assume that the robot always starts at the beginning of the track. The track is implemented as being 10 units long, but think of it as a track of length, say 10,000, with the magnet pattern repeated every 10 units. A length of 10 makes it easier to plot and inspect."
   ]
  },
  {
   "cell_type": "code",
   "execution_count": 35,
   "metadata": {},
   "outputs": [],
   "source": [
    "def train_filter(iterations, kernel, sensor_accuracy, \n",
    "             move_distance, do_print=True):\n",
    "    track = np.array([0, 1, 2, 3, 4, 5, 6, 7, 8, 9])\n",
    "    prior = np.array([.9] + [0.01]*9)\n",
    "    posterior = prior[:]\n",
    "    normalize(prior)\n",
    "    \n",
    "    robot = Train(len(track), kernel, sensor_accuracy)\n",
    "    for i in range(iterations):\n",
    "        # move the robot and\n",
    "        robot.move(distance=move_distance)\n",
    "\n",
    "        # peform prediction\n",
    "        prior = predict(posterior, move_distance, kernel)       \n",
    "\n",
    "        #  and update the filter\n",
    "        m = robot.sense()\n",
    "        likelihood = lh_hallway(track, m, sensor_accuracy)\n",
    "        posterior = update(likelihood, prior)\n",
    "        index = np.argmax(posterior)\n",
    "\n",
    "        if do_print:\n",
    "            print(f'time {i}: pos {robot.pos}, sensed {m}, at position {track[robot.pos]}')\n",
    "            conf = posterior[index] * 100\n",
    "            print(f'        estimated position is {index} with confidence {conf:.4f}%:')            \n",
    "\n",
    "    book_plots.bar_plot(posterior)\n",
    "    if do_print:\n",
    "        print()\n",
    "        print('final position is', robot.pos)\n",
    "        index = np.argmax(posterior)\n",
    "        print('''Estimated position is {} with '''\n",
    "              '''confidence {:.4f}%:'''.format(\n",
    "                index, posterior[index]*100))"
   ]
  },
  {
   "cell_type": "markdown",
   "metadata": {},
   "source": [
    "Read the code and make sure you understand it. Now let's do a run with no sensor or movement error. If the code is correct it should be able to locate the robot with no error. The output is a bit tedious to read, but if you are at all unsure of how the update/predict cycle works make sure you read through it carefully to solidify your understanding."
   ]
  },
  {
   "cell_type": "code",
   "execution_count": 36,
   "metadata": {},
   "outputs": [
    {
     "name": "stdout",
     "output_type": "stream",
     "text": [
      "time 0: pos 4, sensed 4, at position 4\n",
      "        estimated position is 4 with confidence 99.9900%:\n",
      "time 1: pos 8, sensed 8, at position 8\n",
      "        estimated position is 8 with confidence 100.0000%:\n",
      "time 2: pos 2, sensed 2, at position 2\n",
      "        estimated position is 2 with confidence 100.0000%:\n",
      "time 3: pos 6, sensed 6, at position 6\n",
      "        estimated position is 6 with confidence 100.0000%:\n",
      "\n",
      "final position is 6\n",
      "Estimated position is 6 with confidence 100.0000%:\n"
     ]
    },
    {
     "data": {
      "image/png": "[encoded data removed]",
      "text/plain": [
       "<Figure size 900x400 with 1 Axes>"
      ]
     },
     "metadata": {},
     "output_type": "display_data"
    }
   ],
   "source": [
    "import random\n",
    "\n",
    "random.seed(3)\n",
    "np.set_printoptions(precision=2, suppress=True, linewidth=60)\n",
    "train_filter(4, kernel=[1.], sensor_accuracy=.999,\n",
    "             move_distance=4, do_print=True)"
   ]
  },
  {
   "cell_type": "markdown",
   "metadata": {},
   "source": [
    "We can see that the code was able to perfectly track the robot so we should feel reasonably confident that the code is working. Now let's see how it fairs with some errors. "
   ]
  },
  {
   "cell_type": "code",
   "execution_count": 37,
   "metadata": {},
   "outputs": [
    {
     "name": "stdout",
     "output_type": "stream",
     "text": [
      "time 0: pos 4, sensed 4, at position 4\n",
      "        estimated position is 4 with confidence 96.0390%:\n",
      "time 1: pos 8, sensed 9, at position 8\n",
      "        estimated position is 9 with confidence 52.1180%:\n",
      "time 2: pos 3, sensed 3, at position 3\n",
      "        estimated position is 3 with confidence 88.3993%:\n",
      "time 3: pos 7, sensed 8, at position 7\n",
      "        estimated position is 8 with confidence 49.3174%:\n",
      "\n",
      "final position is 7\n",
      "Estimated position is 8 with confidence 49.3174%:\n"
     ]
    },
    {
     "data": {
      "image/png": "[encoded data removed]",
      "text/plain": [
       "<Figure size 900x400 with 1 Axes>"
      ]
     },
     "metadata": {},
     "output_type": "display_data"
    }
   ],
   "source": [
    "random.seed(5)\n",
    "train_filter(4, kernel=[.1, .8, .1], sensor_accuracy=.9,\n",
    "         move_distance=4, do_print=True)"
   ]
  },
  {
   "cell_type": "markdown",
   "metadata": {},
   "source": [
    "There was a sensing error at time 1, but we are still quite confident in our position. \n",
    "\n",
    "Now let's run a very long simulation and see how the filter responds to errors."
   ]
  },
  {
   "cell_type": "code",
   "execution_count": 38,
   "metadata": {},
   "outputs": [
    {
     "data": {
      "image/png": "[encoded data removed]",
      "text/plain": [
       "<Figure size 800x550 with 4 Axes>"
      ]
     },
     "metadata": {},
     "output_type": "display_data"
    }
   ],
   "source": [
    "with figsize(y=5.5):\n",
    "    for i in range (4):\n",
    "        random.seed(3)\n",
    "        plt.subplot(221+i)\n",
    "        train_filter(148+i, kernel=[.1, .8, .1], \n",
    "                     sensor_accuracy=.8,\n",
    "                     move_distance=4, do_print=False)\n",
    "        plt.title (f'iteration {148 + i}')"
   ]
  },
  {
   "cell_type": "markdown",
   "metadata": {},
   "source": [
    "We can see that there was a problem on iteration 149 as the confidence degrades. But within a few iterations the filter is able to correct itself and regain confidence in the estimated position."
   ]
  },
  {
   "cell_type": "markdown",
   "metadata": {},
   "source": [
    "## Bayes Theorem and the Total Probability Theorem"
   ]
  },
  {
   "cell_type": "markdown",
   "metadata": {},
   "source": [
    "We developed the math in this chapter merely by reasoning about the information we have at each moment. In the process we discovered [*Bayes' Theorem*](https://en.wikipedia.org/wiki/Bayes%27_theorem) and the [*Total Probability Theorem*](https://en.wikipedia.org/wiki/Law_of_total_probability).\n",
    "\n",
    "Bayes theorem tells us how to compute the probability of an event given previous information. \n",
    "\n",
    "We implemented the `update()` function with this probability calculation:\n",
    "\n",
    "$$ \\mathtt{posterior} = \\frac{\\mathtt{likelihood}\\times \\mathtt{prior}}{\\mathtt{normalization\\, factor}}$$ \n",
    "\n",
    "We haven't developed the mathematics to discuss Bayes yet, but this is Bayes' theorem. Every filter in this book is an expression of Bayes' theorem. In the next chapter we will develop the mathematics, but in many ways that obscures the simple idea expressed in this equation:\n",
    "\n",
    "$$ updated\\,knowledge = \\big\\|likelihood\\,of\\,new\\,knowledge\\times prior\\, knowledge \\big\\|$$\n",
    "\n",
    "where $\\| \\cdot\\|$ expresses normalizing the term.\n",
    "\n",
    "We came to this with simple reasoning about a dog walking down a hallway. Yet, as we will see the same equation applies to a universe of filtering problems. We will use this equation in every subsequent chapter.\n",
    "\n",
    "Likewise, the `predict()` step computes the total probability of multiple possible events. This is known as the *Total Probability Theorem* in statistics, and we will also cover this in the next chapter after developing some supporting math.\n",
    "\n",
    "For now I need you to understand that Bayes' theorem is a formula to incorporate new information into existing information."
   ]
  },
  {
   "cell_type": "markdown",
   "metadata": {},
   "source": [
    "## Summary\n",
    "\n",
    "The code is very short, but the result is impressive! We have implemented a form of a Bayesian filter. We have learned how to start with no information and derive information from noisy sensors. Even though the sensors in this chapter are very noisy (most sensors are more than 80% accurate, for example) we quickly converge on the most likely position for our dog. We have learned how the predict step always degrades our knowledge, but the addition of another measurement, even when it might have noise in it, improves our knowledge, allowing us to converge on the most likely result.\n",
    "\n",
    "This book is mostly about the Kalman filter. The math it uses is different, but the logic is exactly the same as used in this chapter. It uses Bayesian reasoning to form estimates from a combination of measurements and process models. \n",
    "\n",
    "**If you can understand this chapter you will be able to understand and implement Kalman filters.** I cannot stress this enough. If anything is murky, go back and reread this chapter and play with the code. The rest of this book will build on the algorithms that we use here. If you don't understand why this filter works you will have little success with the rest of the material. However, if you grasp the fundamental insight - multiplying probabilities when we measure, and shifting probabilities when we update leads to a converging solution - then after learning a bit of math you are ready to implement a Kalman filter."
   ]
  },
  {
   "cell_type": "markdown",
   "metadata": {},
   "source": [
    "## References\n",
    "\n",
    " * [1] D. Fox, W. Burgard, and S. Thrun. \"Monte carlo localization: Efficient position estimation for mobile robots.\" In *Journal of Artifical Intelligence Research*, 1999.\n",
    " \n",
    " http://www.cs.cmu.edu/afs/cs/project/jair/pub/volume11/fox99a-html/jair-localize.html\n",
    "\n",
    "\n",
    " * [2] Dieter Fox, et. al. \"Bayesian Filters for Location Estimation\". In *IEEE Pervasive Computing*, September 2003.\n",
    " \n",
    " http://swarmlab.unimaas.nl/wp-content/uploads/2012/07/fox2003bayesian.pdf\n",
    " \n",
    " \n",
    " * [3] Sebastian Thrun. \"Artificial Intelligence for Robotics\".\n",
    " \n",
    " https://www.udacity.com/course/cs373\n",
    " \n",
    " \n",
    " * [4] Khan Acadamy. \"Introduction to the Convolution\"\n",
    " \n",
    " https://www.khanacademy.org/math/differential-equations/laplace-transform/convolution-integral/v/introduction-to-the-convolution\n",
    " \n",
    " \n",
    "* [5] Wikipedia. \"Convolution\"\n",
    "\n",
    " http://en.wikipedia.org/wiki/Convolution\n",
    "\n",
    "* [6] Wikipedia. \"Law of total probability\"\n",
    "\n",
    "  http://en.wikipedia.org/wiki/Law_of_total_probability\n",
    "  \n",
    "* [7] Wikipedia. \"Time Evolution\"\n",
    "\n",
    " https://en.wikipedia.org/wiki/Time_evolution\n",
    " \n",
    "* [8] We need to rethink how we teach statistics from the ground up\n",
    " \n",
    " http://www.statslife.org.uk/opinion/2405-we-need-to-rethink-how-we-teach-statistics-from-the-ground-up"
   ]
  }
 ],
 "metadata": {
  "anaconda-cloud": {},
  "kernelspec": {
   "display_name": "Python 3",
   "language": "python",
   "name": "python3"
  },
  "language_info": {
   "codemirror_mode": {
    "name": "ipython",
    "version": 3
   },
   "file_extension": ".py",
   "mimetype": "text/x-python",
   "name": "python",
   "nbconvert_exporter": "python",
   "pygments_lexer": "ipython3",
   "version": "3.6.10"
  },
  "widgets": {
   "application/vnd.jupyter.widget-state+json": {
    "state": {
     "1ea315f115ff43d8aedcd574bbeed410": {
      "model_module": "@jupyter-widgets/controls",
      "model_module_version": "1.5.0",
      "model_name": "IntSliderModel",
      "state": {
       "_dom_classes": [],
       "_model_module": "@jupyter-widgets/controls",
       "_model_module_version": "1.5.0",
       "_model_name": "IntSliderModel",
       "_view_count": null,
       "_view_module": "@jupyter-widgets/controls",
       "_view_module_version": "1.5.0",
       "_view_name": "IntSliderView",
       "continuous_update": true,
       "description": "step",
       "description_tooltip": null,
       "disabled": false,
       "layout": "IPY_MODEL_51963e73dba4487f95d2e6c2b9a9c71a",
       "max": 100,
       "min": 0,
       "orientation": "horizontal",
       "readout": true,
       "readout_format": "d",
       "step": 1,
       "style": "IPY_MODEL_bf7a2628623c422bbdc7983f76a57c75",
       "value": 1
      }
     },
     "24a3f8a7d3c44508a9d0ae15bb97df92": {
      "model_module": "@jupyter-widgets/base",
      "model_module_version": "1.2.0",
      "model_name": "LayoutModel",
      "state": {
       "_model_module": "@jupyter-widgets/base",
       "_model_module_version": "1.2.0",
       "_model_name": "LayoutModel",
       "_view_count": null,
       "_view_module": "@jupyter-widgets/base",
       "_view_module_version": "1.2.0",
       "_view_name": "LayoutView",
       "align_content": null,
       "align_items": null,
       "align_self": null,
       "border": null,
       "bottom": null,
       "display": null,
       "flex": null,
       "flex_flow": null,
       "grid_area": null,
       "grid_auto_columns": null,
       "grid_auto_flow": null,
       "grid_auto_rows": null,
       "grid_column": null,
       "grid_gap": null,
       "grid_row": null,
       "grid_template_areas": null,
       "grid_template_columns": null,
       "grid_template_rows": null,
       "height": null,
       "justify_content": null,
       "justify_items": null,
       "left": null,
       "margin": null,
       "max_height": null,
       "max_width": null,
       "min_height": null,
       "min_width": null,
       "object_fit": null,
       "object_position": null,
       "order": null,
       "overflow": null,
       "overflow_x": null,
       "overflow_y": null,
       "padding": null,
       "right": null,
       "top": null,
       "visibility": null,
       "width": null
      }
     },
     "24f0f28eff1947719418be9532a5054c": {
      "model_module": "@jupyter-widgets/base",
      "model_module_version": "1.2.0",
      "model_name": "LayoutModel",
      "state": {
       "_model_module": "@jupyter-widgets/base",
       "_model_module_version": "1.2.0",
       "_model_name": "LayoutModel",
       "_view_count": null,
       "_view_module": "@jupyter-widgets/base",
       "_view_module_version": "1.2.0",
       "_view_name": "LayoutView",
       "align_content": null,
       "align_items": null,
       "align_self": null,
       "border": null,
       "bottom": null,
       "display": null,
       "flex": null,
       "flex_flow": null,
       "grid_area": null,
       "grid_auto_columns": null,
       "grid_auto_flow": null,
       "grid_auto_rows": null,
       "grid_column": null,
       "grid_gap": null,
       "grid_row": null,
       "grid_template_areas": null,
       "grid_template_columns": null,
       "grid_template_rows": null,
       "height": null,
       "justify_content": null,
       "justify_items": null,
       "left": null,
       "margin": null,
       "max_height": null,
       "max_width": null,
       "min_height": null,
       "min_width": null,
       "object_fit": null,
       "object_position": null,
       "order": null,
       "overflow": null,
       "overflow_x": null,
       "overflow_y": null,
       "padding": null,
       "right": null,
       "top": null,
       "visibility": null,
       "width": null
      }
     },
     "376e66cbf1e74103a1a93d5ec7611004": {
      "model_module": "@jupyter-widgets/output",
      "model_module_version": "1.0.0",
      "model_name": "OutputModel",
      "state": {
       "_dom_classes": [],
       "_model_module": "@jupyter-widgets/output",
       "_model_module_version": "1.0.0",
       "_model_name": "OutputModel",
       "_view_count": null,
       "_view_module": "@jupyter-widgets/output",
       "_view_module_version": "1.0.0",
       "_view_name": "OutputView",
       "layout": "IPY_MODEL_24f0f28eff1947719418be9532a5054c",
       "msg_id": "",
       "outputs": []
      }
     },
     "4825caa46e18450f9afcba67c27cbeba": {
      "model_module": "@jupyter-widgets/controls",
      "model_module_version": "1.5.0",
      "model_name": "IntSliderModel",
      "state": {
       "_dom_classes": [],
       "_model_module": "@jupyter-widgets/controls",
       "_model_module_version": "1.5.0",
       "_model_name": "IntSliderModel",
       "_view_count": null,
       "_view_module": "@jupyter-widgets/controls",
       "_view_module_version": "1.5.0",
       "_view_name": "IntSliderView",
       "continuous_update": true,
       "description": "time_step",
       "description_tooltip": null,
       "disabled": false,
       "layout": "IPY_MODEL_6409d65c66d5483ab1dff92c7199efb0",
       "max": 19,
       "min": 0,
       "orientation": "horizontal",
       "readout": true,
       "readout_format": "d",
       "step": 1,
       "style": "IPY_MODEL_c448c06a3e904b0d811dd099733429bc",
       "value": 0
      }
     },
     "48c69b49621547b9972c8eb7cddfa10e": {
      "model_module": "@jupyter-widgets/output",
      "model_module_version": "1.0.0",
      "model_name": "OutputModel",
      "state": {
       "_dom_classes": [],
       "_model_module": "@jupyter-widgets/output",
       "_model_module_version": "1.0.0",
       "_model_name": "OutputModel",
       "_view_count": null,
       "_view_module": "@jupyter-widgets/output",
       "_view_module_version": "1.0.0",
       "_view_name": "OutputView",
       "layout": "IPY_MODEL_4fbf3d96470d4f168fdd3af62ae85189",
       "msg_id": "",
       "outputs": []
      }
     },
     "4fbf3d96470d4f168fdd3af62ae85189": {
      "model_module": "@jupyter-widgets/base",
      "model_module_version": "1.2.0",
      "model_name": "LayoutModel",
      "state": {
       "_model_module": "@jupyter-widgets/base",
       "_model_module_version": "1.2.0",
       "_model_name": "LayoutModel",
       "_view_count": null,
       "_view_module": "@jupyter-widgets/base",
       "_view_module_version": "1.2.0",
       "_view_name": "LayoutView",
       "align_content": null,
       "align_items": null,
       "align_self": null,
       "border": null,
       "bottom": null,
       "display": null,
       "flex": null,
       "flex_flow": null,
       "grid_area": null,
       "grid_auto_columns": null,
       "grid_auto_flow": null,
       "grid_auto_rows": null,
       "grid_column": null,
       "grid_gap": null,
       "grid_row": null,
       "grid_template_areas": null,
       "grid_template_columns": null,
       "grid_template_rows": null,
       "height": null,
       "justify_content": null,
       "justify_items": null,
       "left": null,
       "margin": null,
       "max_height": null,
       "max_width": null,
       "min_height": null,
       "min_width": null,
       "object_fit": null,
       "object_position": null,
       "order": null,
       "overflow": null,
       "overflow_x": null,
       "overflow_y": null,
       "padding": null,
       "right": null,
       "top": null,
       "visibility": null,
       "width": null
      }
     },
     "51963e73dba4487f95d2e6c2b9a9c71a": {
      "model_module": "@jupyter-widgets/base",
      "model_module_version": "1.2.0",
      "model_name": "LayoutModel",
      "state": {
       "_model_module": "@jupyter-widgets/base",
       "_model_module_version": "1.2.0",
       "_model_name": "LayoutModel",
       "_view_count": null,
       "_view_module": "@jupyter-widgets/base",
       "_view_module_version": "1.2.0",
       "_view_name": "LayoutView",
       "align_content": null,
       "align_items": null,
       "align_self": null,
       "border": null,
       "bottom": null,
       "display": null,
       "flex": null,
       "flex_flow": null,
       "grid_area": null,
       "grid_auto_columns": null,
       "grid_auto_flow": null,
       "grid_auto_rows": null,
       "grid_column": null,
       "grid_gap": null,
       "grid_row": null,
       "grid_template_areas": null,
       "grid_template_columns": null,
       "grid_template_rows": null,
       "height": null,
       "justify_content": null,
       "justify_items": null,
       "left": null,
       "margin": null,
       "max_height": null,
       "max_width": null,
       "min_height": null,
       "min_width": null,
       "object_fit": null,
       "object_position": null,
       "order": null,
       "overflow": null,
       "overflow_x": null,
       "overflow_y": null,
       "padding": null,
       "right": null,
       "top": null,
       "visibility": null,
       "width": null
      }
     },
     "557aede106aa460da09898120cf2c111": {
      "model_module": "@jupyter-widgets/base",
      "model_module_version": "1.2.0",
      "model_name": "LayoutModel",
      "state": {
       "_model_module": "@jupyter-widgets/base",
       "_model_module_version": "1.2.0",
       "_model_name": "LayoutModel",
       "_view_count": null,
       "_view_module": "@jupyter-widgets/base",
       "_view_module_version": "1.2.0",
       "_view_name": "LayoutView",
       "align_content": null,
       "align_items": null,
       "align_self": null,
       "border": null,
       "bottom": null,
       "display": null,
       "flex": null,
       "flex_flow": null,
       "grid_area": null,
       "grid_auto_columns": null,
       "grid_auto_flow": null,
       "grid_auto_rows": null,
       "grid_column": null,
       "grid_gap": null,
       "grid_row": null,
       "grid_template_areas": null,
       "grid_template_columns": null,
       "grid_template_rows": null,
       "height": null,
       "justify_content": null,
       "justify_items": null,
       "left": null,
       "margin": null,
       "max_height": null,
       "max_width": null,
       "min_height": null,
       "min_width": null,
       "object_fit": null,
       "object_position": null,
       "order": null,
       "overflow": null,
       "overflow_x": null,
       "overflow_y": null,
       "padding": null,
       "right": null,
       "top": null,
       "visibility": null,
       "width": null
      }
     },
     "6127afe680be4cc5bd3e14626d4493f0": {
      "model_module": "@jupyter-widgets/controls",
      "model_module_version": "1.5.0",
      "model_name": "VBoxModel",
      "state": {
       "_dom_classes": [
        "widget-interact"
       ],
       "_model_module": "@jupyter-widgets/controls",
       "_model_module_version": "1.5.0",
       "_model_name": "VBoxModel",
       "_view_count": null,
       "_view_module": "@jupyter-widgets/controls",
       "_view_module_version": "1.5.0",
       "_view_name": "VBoxView",
       "box_style": "",
       "children": [
        "IPY_MODEL_7f99b7560aa04802a5b1b03b5e4ad81e",
        "IPY_MODEL_48c69b49621547b9972c8eb7cddfa10e"
       ],
       "layout": "IPY_MODEL_557aede106aa460da09898120cf2c111"
      }
     },
     "6409d65c66d5483ab1dff92c7199efb0": {
      "model_module": "@jupyter-widgets/base",
      "model_module_version": "1.2.0",
      "model_name": "LayoutModel",
      "state": {
       "_model_module": "@jupyter-widgets/base",
       "_model_module_version": "1.2.0",
       "_model_name": "LayoutModel",
       "_view_count": null,
       "_view_module": "@jupyter-widgets/base",
       "_view_module_version": "1.2.0",
       "_view_name": "LayoutView",
       "align_content": null,
       "align_items": null,
       "align_self": null,
       "border": null,
       "bottom": null,
       "display": null,
       "flex": null,
       "flex_flow": null,
       "grid_area": null,
       "grid_auto_columns": null,
       "grid_auto_flow": null,
       "grid_auto_rows": null,
       "grid_column": null,
       "grid_gap": null,
       "grid_row": null,
       "grid_template_areas": null,
       "grid_template_columns": null,
       "grid_template_rows": null,
       "height": null,
       "justify_content": null,
       "justify_items": null,
       "left": null,
       "margin": null,
       "max_height": null,
       "max_width": null,
       "min_height": null,
       "min_width": null,
       "object_fit": null,
       "object_position": null,
       "order": null,
       "overflow": null,
       "overflow_x": null,
       "overflow_y": null,
       "padding": null,
       "right": null,
       "top": null,
       "visibility": null,
       "width": null
      }
     },
     "7e810cc52ae044aba08c2672377d716c": {
      "model_module": "@jupyter-widgets/base",
      "model_module_version": "1.2.0",
      "model_name": "LayoutModel",
      "state": {
       "_model_module": "@jupyter-widgets/base",
       "_model_module_version": "1.2.0",
       "_model_name": "LayoutModel",
       "_view_count": null,
       "_view_module": "@jupyter-widgets/base",
       "_view_module_version": "1.2.0",
       "_view_name": "LayoutView",
       "align_content": null,
       "align_items": null,
       "align_self": null,
       "border": null,
       "bottom": null,
       "display": null,
       "flex": null,
       "flex_flow": null,
       "grid_area": null,
       "grid_auto_columns": null,
       "grid_auto_flow": null,
       "grid_auto_rows": null,
       "grid_column": null,
       "grid_gap": null,
       "grid_row": null,
       "grid_template_areas": null,
       "grid_template_columns": null,
       "grid_template_rows": null,
       "height": null,
       "justify_content": null,
       "justify_items": null,
       "left": null,
       "margin": null,
       "max_height": null,
       "max_width": null,
       "min_height": null,
       "min_width": null,
       "object_fit": null,
       "object_position": null,
       "order": null,
       "overflow": null,
       "overflow_x": null,
       "overflow_y": null,
       "padding": null,
       "right": null,
       "top": null,
       "visibility": null,
       "width": null
      }
     },
     "7f99b7560aa04802a5b1b03b5e4ad81e": {
      "model_module": "@jupyter-widgets/controls",
      "model_module_version": "1.5.0",
      "model_name": "IntSliderModel",
      "state": {
       "_dom_classes": [],
       "_model_module": "@jupyter-widgets/controls",
       "_model_module_version": "1.5.0",
       "_model_name": "IntSliderModel",
       "_view_count": null,
       "_view_module": "@jupyter-widgets/controls",
       "_view_module_version": "1.5.0",
       "_view_name": "IntSliderView",
       "continuous_update": true,
       "description": "step",
       "description_tooltip": null,
       "disabled": false,
       "layout": "IPY_MODEL_7e810cc52ae044aba08c2672377d716c",
       "max": 12,
       "min": 0,
       "orientation": "horizontal",
       "readout": true,
       "readout_format": "d",
       "step": 1,
       "style": "IPY_MODEL_d4f45abe59a24e19a6168202f72b914e",
       "value": 12
      }
     },
     "9260e86291ea4ceabb18583e1b480bd9": {
      "model_module": "@jupyter-widgets/base",
      "model_module_version": "1.2.0",
      "model_name": "LayoutModel",
      "state": {
       "_model_module": "@jupyter-widgets/base",
       "_model_module_version": "1.2.0",
       "_model_name": "LayoutModel",
       "_view_count": null,
       "_view_module": "@jupyter-widgets/base",
       "_view_module_version": "1.2.0",
       "_view_name": "LayoutView",
       "align_content": null,
       "align_items": null,
       "align_self": null,
       "border": null,
       "bottom": null,
       "display": null,
       "flex": null,
       "flex_flow": null,
       "grid_area": null,
       "grid_auto_columns": null,
       "grid_auto_flow": null,
       "grid_auto_rows": null,
       "grid_column": null,
       "grid_gap": null,
       "grid_row": null,
       "grid_template_areas": null,
       "grid_template_columns": null,
       "grid_template_rows": null,
       "height": null,
       "justify_content": null,
       "justify_items": null,
       "left": null,
       "margin": null,
       "max_height": null,
       "max_width": null,
       "min_height": null,
       "min_width": null,
       "object_fit": null,
       "object_position": null,
       "order": null,
       "overflow": null,
       "overflow_x": null,
       "overflow_y": null,
       "padding": null,
       "right": null,
       "top": null,
       "visibility": null,
       "width": null
      }
     },
     "964107123dbf442593d2a43411c04268": {
      "model_module": "@jupyter-widgets/base",
      "model_module_version": "1.2.0",
      "model_name": "LayoutModel",
      "state": {
       "_model_module": "@jupyter-widgets/base",
       "_model_module_version": "1.2.0",
       "_model_name": "LayoutModel",
       "_view_count": null,
       "_view_module": "@jupyter-widgets/base",
       "_view_module_version": "1.2.0",
       "_view_name": "LayoutView",
       "align_content": null,
       "align_items": null,
       "align_self": null,
       "border": null,
       "bottom": null,
       "display": null,
       "flex": null,
       "flex_flow": null,
       "grid_area": null,
       "grid_auto_columns": null,
       "grid_auto_flow": null,
       "grid_auto_rows": null,
       "grid_column": null,
       "grid_gap": null,
       "grid_row": null,
       "grid_template_areas": null,
       "grid_template_columns": null,
       "grid_template_rows": null,
       "height": null,
       "justify_content": null,
       "justify_items": null,
       "left": null,
       "margin": null,
       "max_height": null,
       "max_width": null,
       "min_height": null,
       "min_width": null,
       "object_fit": null,
       "object_position": null,
       "order": null,
       "overflow": null,
       "overflow_x": null,
       "overflow_y": null,
       "padding": null,
       "right": null,
       "top": null,
       "visibility": null,
       "width": null
      }
     },
     "b51e90e175e14117b4c0727749c1047d": {
      "model_module": "@jupyter-widgets/base",
      "model_module_version": "1.2.0",
      "model_name": "LayoutModel",
      "state": {
       "_model_module": "@jupyter-widgets/base",
       "_model_module_version": "1.2.0",
       "_model_name": "LayoutModel",
       "_view_count": null,
       "_view_module": "@jupyter-widgets/base",
       "_view_module_version": "1.2.0",
       "_view_name": "LayoutView",
       "align_content": null,
       "align_items": null,
       "align_self": null,
       "border": null,
       "bottom": null,
       "display": null,
       "flex": null,
       "flex_flow": null,
       "grid_area": null,
       "grid_auto_columns": null,
       "grid_auto_flow": null,
       "grid_auto_rows": null,
       "grid_column": null,
       "grid_gap": null,
       "grid_row": null,
       "grid_template_areas": null,
       "grid_template_columns": null,
       "grid_template_rows": null,
       "height": null,
       "justify_content": null,
       "justify_items": null,
       "left": null,
       "margin": null,
       "max_height": null,
       "max_width": null,
       "min_height": null,
       "min_width": null,
       "object_fit": null,
       "object_position": null,
       "order": null,
       "overflow": null,
       "overflow_x": null,
       "overflow_y": null,
       "padding": null,
       "right": null,
       "top": null,
       "visibility": null,
       "width": null
      }
     },
     "bf7a2628623c422bbdc7983f76a57c75": {
      "model_module": "@jupyter-widgets/controls",
      "model_module_version": "1.5.0",
      "model_name": "SliderStyleModel",
      "state": {
       "_model_module": "@jupyter-widgets/controls",
       "_model_module_version": "1.5.0",
       "_model_name": "SliderStyleModel",
       "_view_count": null,
       "_view_module": "@jupyter-widgets/base",
       "_view_module_version": "1.2.0",
       "_view_name": "StyleView",
       "description_width": "",
       "handle_color": null
      }
     },
     "c383bd000ae248f0adeec4825dc0923b": {
      "model_module": "@jupyter-widgets/controls",
      "model_module_version": "1.5.0",
      "model_name": "SliderStyleModel",
      "state": {
       "_model_module": "@jupyter-widgets/controls",
       "_model_module_version": "1.5.0",
       "_model_name": "SliderStyleModel",
       "_view_count": null,
       "_view_module": "@jupyter-widgets/base",
       "_view_module_version": "1.2.0",
       "_view_name": "StyleView",
       "description_width": "",
       "handle_color": null
      }
     },
     "c448c06a3e904b0d811dd099733429bc": {
      "model_module": "@jupyter-widgets/controls",
      "model_module_version": "1.5.0",
      "model_name": "SliderStyleModel",
      "state": {
       "_model_module": "@jupyter-widgets/controls",
       "_model_module_version": "1.5.0",
       "_model_name": "SliderStyleModel",
       "_view_count": null,
       "_view_module": "@jupyter-widgets/base",
       "_view_module_version": "1.2.0",
       "_view_name": "StyleView",
       "description_width": "",
       "handle_color": null
      }
     },
     "d13d51f518a64cbfb548a3ac5fe0412d": {
      "model_module": "@jupyter-widgets/controls",
      "model_module_version": "1.5.0",
      "model_name": "VBoxModel",
      "state": {
       "_dom_classes": [
        "widget-interact"
       ],
       "_model_module": "@jupyter-widgets/controls",
       "_model_module_version": "1.5.0",
       "_model_name": "VBoxModel",
       "_view_count": null,
       "_view_module": "@jupyter-widgets/controls",
       "_view_module_version": "1.5.0",
       "_view_name": "VBoxView",
       "box_style": "",
       "children": [
        "IPY_MODEL_e99d98efa98146f7ae449672d8f4da71",
        "IPY_MODEL_e67fb12631604743a7b242a173e2250c"
       ],
       "layout": "IPY_MODEL_24a3f8a7d3c44508a9d0ae15bb97df92"
      }
     },
     "d4f45abe59a24e19a6168202f72b914e": {
      "model_module": "@jupyter-widgets/controls",
      "model_module_version": "1.5.0",
      "model_name": "SliderStyleModel",
      "state": {
       "_model_module": "@jupyter-widgets/controls",
       "_model_module_version": "1.5.0",
       "_model_name": "SliderStyleModel",
       "_view_count": null,
       "_view_module": "@jupyter-widgets/base",
       "_view_module_version": "1.2.0",
       "_view_name": "StyleView",
       "description_width": "",
       "handle_color": null
      }
     },
     "e67fb12631604743a7b242a173e2250c": {
      "model_module": "@jupyter-widgets/output",
      "model_module_version": "1.0.0",
      "model_name": "OutputModel",
      "state": {
       "_dom_classes": [],
       "_model_module": "@jupyter-widgets/output",
       "_model_module_version": "1.0.0",
       "_model_name": "OutputModel",
       "_view_count": null,
       "_view_module": "@jupyter-widgets/output",
       "_view_module_version": "1.0.0",
       "_view_name": "OutputView",
       "layout": "IPY_MODEL_9260e86291ea4ceabb18583e1b480bd9",
       "msg_id": "",
       "outputs": []
      }
     },
     "e99d98efa98146f7ae449672d8f4da71": {
      "model_module": "@jupyter-widgets/controls",
      "model_module_version": "1.5.0",
      "model_name": "IntSliderModel",
      "state": {
       "_dom_classes": [],
       "_model_module": "@jupyter-widgets/controls",
       "_model_module_version": "1.5.0",
       "_model_name": "IntSliderModel",
       "_view_count": null,
       "_view_module": "@jupyter-widgets/controls",
       "_view_module_version": "1.5.0",
       "_view_name": "IntSliderView",
       "continuous_update": true,
       "description": "step",
       "description_tooltip": null,
       "disabled": false,
       "layout": "IPY_MODEL_fb2dce3f803243b3a6a4619bc0099cc2",
       "max": 100,
       "min": 0,
       "orientation": "horizontal",
       "readout": true,
       "readout_format": "d",
       "step": 1,
       "style": "IPY_MODEL_c383bd000ae248f0adeec4825dc0923b",
       "value": 1
      }
     },
     "ecba7b7412dc454d9c606867bb343235": {
      "model_module": "@jupyter-widgets/controls",
      "model_module_version": "1.5.0",
      "model_name": "VBoxModel",
      "state": {
       "_dom_classes": [
        "widget-interact"
       ],
       "_model_module": "@jupyter-widgets/controls",
       "_model_module_version": "1.5.0",
       "_model_name": "VBoxModel",
       "_view_count": null,
       "_view_module": "@jupyter-widgets/controls",
       "_view_module_version": "1.5.0",
       "_view_name": "VBoxView",
       "box_style": "",
       "children": [
        "IPY_MODEL_4825caa46e18450f9afcba67c27cbeba",
        "IPY_MODEL_ecf2533746d74ee18336f04b86e21736"
       ],
       "layout": "IPY_MODEL_fa98c8f5d70f48af9968b14005fa2274"
      }
     },
     "ecf2533746d74ee18336f04b86e21736": {
      "model_module": "@jupyter-widgets/output",
      "model_module_version": "1.0.0",
      "model_name": "OutputModel",
      "state": {
       "_dom_classes": [],
       "_model_module": "@jupyter-widgets/output",
       "_model_module_version": "1.0.0",
       "_model_name": "OutputModel",
       "_view_count": null,
       "_view_module": "@jupyter-widgets/output",
       "_view_module_version": "1.0.0",
       "_view_name": "OutputView",
       "layout": "IPY_MODEL_964107123dbf442593d2a43411c04268",
       "msg_id": "",
       "outputs": []
      }
     },
     "fa98c8f5d70f48af9968b14005fa2274": {
      "model_module": "@jupyter-widgets/base",
      "model_module_version": "1.2.0",
      "model_name": "LayoutModel",
      "state": {
       "_model_module": "@jupyter-widgets/base",
       "_model_module_version": "1.2.0",
       "_model_name": "LayoutModel",
       "_view_count": null,
       "_view_module": "@jupyter-widgets/base",
       "_view_module_version": "1.2.0",
       "_view_name": "LayoutView",
       "align_content": null,
       "align_items": null,
       "align_self": null,
       "border": null,
       "bottom": null,
       "display": null,
       "flex": null,
       "flex_flow": null,
       "grid_area": null,
       "grid_auto_columns": null,
       "grid_auto_flow": null,
       "grid_auto_rows": null,
       "grid_column": null,
       "grid_gap": null,
       "grid_row": null,
       "grid_template_areas": null,
       "grid_template_columns": null,
       "grid_template_rows": null,
       "height": null,
       "justify_content": null,
       "justify_items": null,
       "left": null,
       "margin": null,
       "max_height": null,
       "max_width": null,
       "min_height": null,
       "min_width": null,
       "object_fit": null,
       "object_position": null,
       "order": null,
       "overflow": null,
       "overflow_x": null,
       "overflow_y": null,
       "padding": null,
       "right": null,
       "top": null,
       "visibility": null,
       "width": null
      }
     },
     "fb2dce3f803243b3a6a4619bc0099cc2": {
      "model_module": "@jupyter-widgets/base",
      "model_module_version": "1.2.0",
      "model_name": "LayoutModel",
      "state": {
       "_model_module": "@jupyter-widgets/base",
       "_model_module_version": "1.2.0",
       "_model_name": "LayoutModel",
       "_view_count": null,
       "_view_module": "@jupyter-widgets/base",
       "_view_module_version": "1.2.0",
       "_view_name": "LayoutView",
       "align_content": null,
       "align_items": null,
       "align_self": null,
       "border": null,
       "bottom": null,
       "display": null,
       "flex": null,
       "flex_flow": null,
       "grid_area": null,
       "grid_auto_columns": null,
       "grid_auto_flow": null,
       "grid_auto_rows": null,
       "grid_column": null,
       "grid_gap": null,
       "grid_row": null,
       "grid_template_areas": null,
       "grid_template_columns": null,
       "grid_template_rows": null,
       "height": null,
       "justify_content": null,
       "justify_items": null,
       "left": null,
       "margin": null,
       "max_height": null,
       "max_width": null,
       "min_height": null,
       "min_width": null,
       "object_fit": null,
       "object_position": null,
       "order": null,
       "overflow": null,
       "overflow_x": null,
       "overflow_y": null,
       "padding": null,
       "right": null,
       "top": null,
       "visibility": null,
       "width": null
      }
     },
     "fd3a9bcbc55f432dad319c4248e1f8ef": {
      "model_module": "@jupyter-widgets/controls",
      "model_module_version": "1.5.0",
      "model_name": "VBoxModel",
      "state": {
       "_dom_classes": [
        "widget-interact"
       ],
       "_model_module": "@jupyter-widgets/controls",
       "_model_module_version": "1.5.0",
       "_model_name": "VBoxModel",
       "_view_count": null,
       "_view_module": "@jupyter-widgets/controls",
       "_view_module_version": "1.5.0",
       "_view_name": "VBoxView",
       "box_style": "",
       "children": [
        "IPY_MODEL_1ea315f115ff43d8aedcd574bbeed410",
        "IPY_MODEL_376e66cbf1e74103a1a93d5ec7611004"
       ],
       "layout": "IPY_MODEL_b51e90e175e14117b4c0727749c1047d"
      }
     }
    },
    "version_major": 2,
    "version_minor": 0
   }
  }
 },
 "nbformat": 4,
 "nbformat_minor": 4
}
